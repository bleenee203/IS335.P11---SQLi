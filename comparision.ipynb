{
 "cells": [
  {
   "cell_type": "code",
   "execution_count": null,
   "metadata": {},
   "outputs": [
    {
     "name": "stdout",
     "output_type": "stream",
     "text": [
      "+-----------------------+--------------------------------------------------------------------------------------------+----------+-----------+--------+----------+\n",
      "|         Model         |                                      Hyper-parameters                                      | Accuracy | Precision | Recall | F1-Score |\n",
      "+-----------------------+--------------------------------------------------------------------------------------------+----------+-----------+--------+----------+\n",
      "|     Unigram + KNN     |                                       n_neighbors: 1                                       |   0.74   |   0.59    |  0.96  |   0.73   |\n",
      "|     Unigram + SVM     |                                    C: 10, kernel: 'rbf'                                    |   0.96   |   0.99    |  0.9   |   0.94   |\n",
      "| Unigram + Naive Bayes |                               alpha: 0.01, fit_prior: False                                |   0.96   |   0.97    |  0.92  |   0.94   |\n",
      "|   Unigram + XGBoost   | colsample_bytree: 1.0, learning_rate: 0.2, max_depth: 7, n_estimators: 200, subsample: 1.0 |   0.94   |   0.98    |  0.86  |   0.92   |\n",
      "|     Bigram + KNN      |                                       n_neighbors: 6                                       |   0.87   |    0.8    |  0.88  |   0.84   |\n",
      "|     Bigram + SVM      |                                    C: 10, kernel: 'rbf'                                    |   0.95   |    1.0    |  0.87  |   0.93   |\n",
      "| Bigram + Naive Bayes  |                               alpha: 0.01, fit_prior: False                                |   0.94   |   0.99    |  0.86  |   0.92   |\n",
      "|   Bigram + XGBoost    | colsample_bytree: 0.8, learning_rate: 0.2, max_depth: 7, n_estimators: 200, subsample: 1.0 |   0.95   |    1.0    |  0.86  |   0.93   |\n",
      "|     TF-IDF + KNN      |                                      n_neighbors: 15                                       |   0.95   |   0.99    |  0.88  |   0.93   |\n",
      "|     TF-IDF + SVM      |                                   C: 100, kernel: 'rbf'                                    |   0.95   |   0.98    |  0.88  |   0.93   |\n",
      "| TF-IDF + Naive Bayes  |                                alpha: 1.0, fit_prior: True                                 |   0.94   |   0.98    |  0.85  |   0.91   |\n",
      "|   TF-IDF + XGBoost    | colsample_bytree: 0.8, learning_rate: 0.2, max_depth: 7, n_estimators: 200, subsample: 1.0 |   0.95   |   0.99    |  0.98  |   0.93   |\n",
      "|         LSTM          |                                  Batch Size: 16, Epoch: 2                                  |   0.99   |    1.0    |  0.97  |   0.98   |\n",
      "+-----------------------+--------------------------------------------------------------------------------------------+----------+-----------+--------+----------+\n"
     ]
    }
   ],
   "source": [
    "import pandas as pd\n",
    "from tabulate import tabulate\n",
    "\n",
    "models = [\n",
    "    'Unigram + KNN', 'Unigram + SVM', 'Unigram + Naive Bayes', 'Unigram + XGBoost', \n",
    "    'Bigram + KNN', 'Bigram + SVM', 'Bigram + Naive Bayes', 'Bigram + XGBoost', \n",
    "    'TF-IDF + KNN', 'TF-IDF + SVM', 'TF-IDF + Naive Bayes', 'TF-IDF + XGBoost', 'LSTM'\n",
    "]\n",
    "\n",
    "hyperparameters = [\n",
    "    \"n_neighbors: 1\", \"C: 10, kernel: 'rbf'\", \"alpha: 0.01, fit_prior: False\", \n",
    "    \"colsample_bytree: 1.0, learning_rate: 0.2, max_depth: 7, n_estimators: 200, subsample: 1.0\",\n",
    "    \"n_neighbors: 6\", \"C: 10, kernel: 'rbf'\", \"alpha: 0.01, fit_prior: False\",\n",
    "    \"colsample_bytree: 0.8, learning_rate: 0.2, max_depth: 7, n_estimators: 200, subsample: 1.0\",\n",
    "    \"n_neighbors: 15\", \"C: 100, kernel: 'rbf'\", \"alpha: 1.0, fit_prior: True\", \n",
    "    \"colsample_bytree: 0.8, learning_rate: 0.2, max_depth: 7, n_estimators: 200, subsample: 1.0\",\n",
    "    \"Batch Size: 16, Epoch: 2\"\n",
    "]\n",
    "\n",
    "accuracy = [0.74, 0.96, 0.96, 0.94, 0.87, 0.95, 0.94, 0.95, 0.95, 0.95, 0.94, 0.95, 0.99]\n",
    "precision = [0.59, 0.99, 0.97, 0.98, 0.80, 1.00, 0.99, 1.00, 0.99, 0.98, 0.98, 0.99, 1.00]\n",
    "recall = [0.96, 0.90, 0.92, 0.86, 0.88, 0.87, 0.86, 0.86, 0.88, 0.88, 0.85, 0.98, 0.97]\n",
    "f1_score = [0.73, 0.94, 0.94, 0.92, 0.84, 0.93, 0.92, 0.93, 0.93, 0.93, 0.91, 0.93, 0.98]\n",
    "\n",
    "df = pd.DataFrame({\n",
    "    'Model': models,\n",
    "    'Hyper-parameters': hyperparameters,\n",
    "    'Accuracy': accuracy,\n",
    "    'Precision': precision,\n",
    "    'Recall': recall,\n",
    "    'F1-Score': f1_score\n",
    "})\n",
    "\n",
    "print(tabulate(df, headers='keys', tablefmt='pretty', showindex=False))\n"
   ]
  },
  {
   "cell_type": "code",
   "execution_count": null,
   "metadata": {},
   "outputs": [],
   "source": []
  }
 ],
 "metadata": {
  "kernelspec": {
   "display_name": "Python 3",
   "language": "python",
   "name": "python3"
  },
  "language_info": {
   "codemirror_mode": {
    "name": "ipython",
    "version": 3
   },
   "file_extension": ".py",
   "mimetype": "text/x-python",
   "name": "python",
   "nbconvert_exporter": "python",
   "pygments_lexer": "ipython3",
   "version": "3.11.0"
  }
 },
 "nbformat": 4,
 "nbformat_minor": 2
}
