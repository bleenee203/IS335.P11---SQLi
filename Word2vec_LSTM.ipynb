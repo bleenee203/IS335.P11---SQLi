{
  "nbformat": 4,
  "nbformat_minor": 0,
  "metadata": {
    "colab": {
      "provenance": [],
      "gpuType": "T4",
      "authorship_tag": "ABX9TyMUO0TGB1ZqovoFzSZwRLAr",
      "include_colab_link": true
    },
    "kernelspec": {
      "name": "python3",
      "display_name": "Python 3"
    },
    "language_info": {
      "name": "python"
    },
    "accelerator": "GPU"
  },
  "cells": [
    {
      "cell_type": "markdown",
      "metadata": {
        "id": "view-in-github",
        "colab_type": "text"
      },
      "source": [
        "<a href=\"https://colab.research.google.com/github/bleenee203/IS335.P11---SQLi/blob/kthanh/Word2vec_LSTM.ipynb\" target=\"_parent\"><img src=\"https://colab.research.google.com/assets/colab-badge.svg\" alt=\"Open In Colab\"/></a>"
      ]
    },
    {
      "cell_type": "code",
      "execution_count": null,
      "metadata": {
        "colab": {
          "base_uri": "https://localhost:8080/"
        },
        "id": "QqlI9CWelInH",
        "outputId": "530b9cd4-185d-44ef-8103-4d2d31020b6f"
      },
      "outputs": [
        {
          "output_type": "stream",
          "name": "stdout",
          "text": [
            "Drive already mounted at /content/drive; to attempt to forcibly remount, call drive.mount(\"/content/drive\", force_remount=True).\n",
            "Epoch 1/10\n"
          ]
        },
        {
          "output_type": "stream",
          "name": "stderr",
          "text": [
            "/usr/local/lib/python3.10/dist-packages/keras/src/layers/core/embedding.py:90: UserWarning: Argument `input_length` is deprecated. Just remove it.\n",
            "  warnings.warn(\n"
          ]
        },
        {
          "output_type": "stream",
          "name": "stdout",
          "text": [
            "\u001b[1m773/773\u001b[0m \u001b[32m━━━━━━━━━━━━━━━━━━━━\u001b[0m\u001b[37m\u001b[0m \u001b[1m20s\u001b[0m 24ms/step - accuracy: 0.9446 - loss: 0.1758 - val_accuracy: 0.9992 - val_loss: 0.0173\n",
            "Epoch 2/10\n",
            "\u001b[1m773/773\u001b[0m \u001b[32m━━━━━━━━━━━━━━━━━━━━\u001b[0m\u001b[37m\u001b[0m \u001b[1m19s\u001b[0m 25ms/step - accuracy: 0.9905 - loss: 0.0536 - val_accuracy: 0.9995 - val_loss: 0.0069\n",
            "Epoch 3/10\n",
            "\u001b[1m773/773\u001b[0m \u001b[32m━━━━━━━━━━━━━━━━━━━━\u001b[0m\u001b[37m\u001b[0m \u001b[1m20s\u001b[0m 24ms/step - accuracy: 0.9917 - loss: 0.0416 - val_accuracy: 0.9998 - val_loss: 0.0046\n",
            "Epoch 4/10\n",
            "\u001b[1m773/773\u001b[0m \u001b[32m━━━━━━━━━━━━━━━━━━━━\u001b[0m\u001b[37m\u001b[0m \u001b[1m21s\u001b[0m 25ms/step - accuracy: 0.9917 - loss: 0.0412 - val_accuracy: 1.0000 - val_loss: 0.0035\n",
            "Epoch 5/10\n",
            "\u001b[1m773/773\u001b[0m \u001b[32m━━━━━━━━━━━━━━━━━━━━\u001b[0m\u001b[37m\u001b[0m \u001b[1m19s\u001b[0m 23ms/step - accuracy: 0.9930 - loss: 0.0353 - val_accuracy: 0.9990 - val_loss: 0.0089\n",
            "Epoch 6/10\n",
            "\u001b[1m773/773\u001b[0m \u001b[32m━━━━━━━━━━━━━━━━━━━━\u001b[0m\u001b[37m\u001b[0m \u001b[1m22s\u001b[0m 25ms/step - accuracy: 0.9943 - loss: 0.0310 - val_accuracy: 0.9998 - val_loss: 0.0032\n",
            "Epoch 7/10\n",
            "\u001b[1m773/773\u001b[0m \u001b[32m━━━━━━━━━━━━━━━━━━━━\u001b[0m\u001b[37m\u001b[0m \u001b[1m19s\u001b[0m 23ms/step - accuracy: 0.9926 - loss: 0.0353 - val_accuracy: 1.0000 - val_loss: 0.0026\n",
            "Epoch 8/10\n",
            "\u001b[1m773/773\u001b[0m \u001b[32m━━━━━━━━━━━━━━━━━━━━\u001b[0m\u001b[37m\u001b[0m \u001b[1m23s\u001b[0m 26ms/step - accuracy: 0.9945 - loss: 0.0297 - val_accuracy: 0.9990 - val_loss: 0.0055\n",
            "Epoch 9/10\n",
            "\u001b[1m773/773\u001b[0m \u001b[32m━━━━━━━━━━━━━━━━━━━━\u001b[0m\u001b[37m\u001b[0m \u001b[1m18s\u001b[0m 23ms/step - accuracy: 0.9940 - loss: 0.0300 - val_accuracy: 0.9990 - val_loss: 0.0050\n",
            "Epoch 10/10\n",
            "\u001b[1m773/773\u001b[0m \u001b[32m━━━━━━━━━━━━━━━━━━━━\u001b[0m\u001b[37m\u001b[0m \u001b[1m19s\u001b[0m 24ms/step - accuracy: 0.9952 - loss: 0.0262 - val_accuracy: 0.9995 - val_loss: 0.0043\n",
            "\u001b[1m967/967\u001b[0m \u001b[32m━━━━━━━━━━━━━━━━━━━━\u001b[0m\u001b[37m\u001b[0m \u001b[1m8s\u001b[0m 9ms/step - accuracy: 0.9831 - loss: 0.0643\n",
            "Accuracy: 0.9939842820167542\n"
          ]
        }
      ],
      "source": [
        "import numpy as np\n",
        "import tensorflow as tf\n",
        "\n",
        "# Mount drive and load data\n",
        "from google.colab import drive\n",
        "drive.mount('/content/drive')\n",
        "import pandas as pd\n",
        "data_path = '/content/drive/My Drive/Data/Modified_SQL_Dataset.csv'\n",
        "data = pd.read_csv(data_path)\n",
        "\n",
        "# Preprocess the Query data\n",
        "data['Query'] = data['Query'].fillna('').apply(str)\n",
        "queries = data['Query'].apply(lambda x: x.lower().split())\n",
        "labels = data['Label'].values\n",
        "\n",
        "# Step 2: Train Word2Vec Model\n",
        "from gensim.models import Word2Vec\n",
        "word2vec_model = Word2Vec(sentences=queries, vector_size=200, min_count=1, window=5, sg=1)\n",
        "\n",
        "# Save word embeddings to use in LSTM\n",
        "vocab_size = len(word2vec_model.wv)\n",
        "embedding_dim = word2vec_model.vector_size\n",
        "\n",
        "# Step 3: Prepare Data for LSTM\n",
        "from tensorflow.keras.preprocessing.text import Tokenizer\n",
        "from tensorflow.keras.preprocessing.sequence import pad_sequences\n",
        "\n",
        "tokenizer = Tokenizer()\n",
        "tokenizer.fit_on_texts(data['Query'])\n",
        "sequences = tokenizer.texts_to_sequences(data['Query'])\n",
        "\n",
        "# Padding sequences to ensure consistent input shape for LSTM\n",
        "max_sequence_length = max([len(seq) for seq in sequences])\n",
        "X = pad_sequences(sequences, maxlen=max_sequence_length)\n",
        "\n",
        "# Map Word2Vec embeddings to Keras Embedding layer\n",
        "embedding_matrix = np.zeros((vocab_size + 1, embedding_dim))\n",
        "for word, i in tokenizer.word_index.items():\n",
        "    if word in word2vec_model.wv:\n",
        "        embedding_matrix[i] = word2vec_model.wv[word]\n",
        "\n",
        "# Step 4: Build the LSTM Model\n",
        "from tensorflow.keras.models import Sequential\n",
        "from tensorflow.keras.layers import Embedding, LSTM, Dense, Dropout  # Add Dropout here\n",
        "from tensorflow.keras.callbacks import EarlyStopping\n",
        "\n",
        "\n",
        "model = Sequential()\n",
        "model.add(Embedding(input_dim=vocab_size + 1, output_dim=embedding_dim, weights=[embedding_matrix],\n",
        "                    input_length=max_sequence_length, trainable=False))\n",
        "model.add(LSTM(128, return_sequences=False))\n",
        "model.add(Dropout(0.5))  # First Dropout\n",
        "model.add(Dense(64, activation='relu'))\n",
        "model.add(Dropout(0.5))  # Second Dropout before the output layer\n",
        "model.add(Dense(1, activation='sigmoid', kernel_regularizer=tf.keras.regularizers.l2(0.01)))\n",
        "\n",
        "\n",
        "\n",
        "model.compile(optimizer='adam', loss='binary_crossentropy', metrics=['accuracy'])\n",
        "\n",
        "# Step 5: Train the LSTM Model\n",
        "y = labels  # Binary labels (1 or 0 for SQL injection classification)\n",
        "early_stopping = EarlyStopping(monitor='val_loss', patience=3, restore_best_weights=True)\n",
        "model.fit(X, y, epochs=10, batch_size=32, validation_split=0.2, callbacks=[early_stopping])\n",
        "\n",
        "# Evaluate the model\n",
        "loss, accuracy = model.evaluate(X, y)\n",
        "print(f\"Accuracy: {accuracy}\")\n"
      ]
    },
    {
      "cell_type": "code",
      "source": [
        "from sklearn.metrics import classification_report\n",
        "\n",
        "# Step 1: Get model predictions on the validation/test set\n",
        "y_pred = (model.predict(X) > 0.5).astype(\"int32\")  # Use a threshold of 0.5 for binary classification\n",
        "\n",
        "# Step 2: Print Precision, Recall, and F1-Score\n",
        "print(classification_report(y, y_pred, target_names=['Non-SQL Injection', 'SQL Injection']))\n"
      ],
      "metadata": {
        "colab": {
          "base_uri": "https://localhost:8080/"
        },
        "id": "5iSrMmChfBoj",
        "outputId": "570b169c-1ecd-47cc-a537-320aa1c73420"
      },
      "execution_count": null,
      "outputs": [
        {
          "output_type": "stream",
          "name": "stdout",
          "text": [
            "\u001b[1m967/967\u001b[0m \u001b[32m━━━━━━━━━━━━━━━━━━━━\u001b[0m\u001b[37m\u001b[0m \u001b[1m8s\u001b[0m 9ms/step\n",
            "                   precision    recall  f1-score   support\n",
            "\n",
            "Non-SQL Injection       0.99      1.00      1.00     19537\n",
            "    SQL Injection       1.00      0.98      0.99     11382\n",
            "\n",
            "         accuracy                           0.99     30919\n",
            "        macro avg       1.00      0.99      0.99     30919\n",
            "     weighted avg       0.99      0.99      0.99     30919\n",
            "\n"
          ]
        }
      ]
    },
    {
      "cell_type": "markdown",
      "source": [
        "check for overfitting"
      ],
      "metadata": {
        "id": "Du_bf8p9WVen"
      }
    },
    {
      "cell_type": "code",
      "source": [
        "import matplotlib.pyplot as plt\n",
        "\n",
        "history = model.fit(X, y, epochs=10, batch_size=32, validation_split=0.2)\n",
        "\n",
        "# Plot accuracy\n",
        "plt.plot(history.history['accuracy'], label='Train Accuracy')\n",
        "plt.plot(history.history['val_accuracy'], label='Validation Accuracy')\n",
        "plt.xlabel('Epoch')\n",
        "plt.ylabel('Accuracy')\n",
        "plt.legend()\n",
        "plt.show()\n",
        "\n",
        "# Plot loss\n",
        "plt.plot(history.history['loss'], label='Train Loss')\n",
        "plt.plot(history.history['val_loss'], label='Validation Loss')\n",
        "plt.xlabel('Epoch')\n",
        "plt.ylabel('Loss')\n",
        "plt.legend()\n",
        "plt.show()\n"
      ],
      "metadata": {
        "colab": {
          "base_uri": "https://localhost:8080/",
          "height": 1000
        },
        "id": "azvwR62vVxMI",
        "outputId": "37bcde6d-05fb-4f41-f4fa-2e02677fb0e1"
      },
      "execution_count": null,
      "outputs": [
        {
          "output_type": "stream",
          "name": "stdout",
          "text": [
            "Epoch 1/10\n",
            "\u001b[1m773/773\u001b[0m \u001b[32m━━━━━━━━━━━━━━━━━━━━\u001b[0m\u001b[37m\u001b[0m \u001b[1m18s\u001b[0m 24ms/step - accuracy: 0.9950 - loss: 0.0229 - val_accuracy: 0.9997 - val_loss: 0.0014\n",
            "Epoch 2/10\n",
            "\u001b[1m773/773\u001b[0m \u001b[32m━━━━━━━━━━━━━━━━━━━━\u001b[0m\u001b[37m\u001b[0m \u001b[1m20s\u001b[0m 23ms/step - accuracy: 0.9953 - loss: 0.0230 - val_accuracy: 0.9995 - val_loss: 0.0011\n",
            "Epoch 3/10\n",
            "\u001b[1m773/773\u001b[0m \u001b[32m━━━━━━━━━━━━━━━━━━━━\u001b[0m\u001b[37m\u001b[0m \u001b[1m21s\u001b[0m 24ms/step - accuracy: 0.9955 - loss: 0.0218 - val_accuracy: 0.9998 - val_loss: 6.8986e-04\n",
            "Epoch 4/10\n",
            "\u001b[1m773/773\u001b[0m \u001b[32m━━━━━━━━━━━━━━━━━━━━\u001b[0m\u001b[37m\u001b[0m \u001b[1m20s\u001b[0m 23ms/step - accuracy: 0.9957 - loss: 0.0196 - val_accuracy: 0.9998 - val_loss: 5.8749e-04\n",
            "Epoch 5/10\n",
            "\u001b[1m773/773\u001b[0m \u001b[32m━━━━━━━━━━━━━━━━━━━━\u001b[0m\u001b[37m\u001b[0m \u001b[1m18s\u001b[0m 23ms/step - accuracy: 0.9956 - loss: 0.0210 - val_accuracy: 0.9997 - val_loss: 5.7090e-04\n",
            "Epoch 6/10\n",
            "\u001b[1m773/773\u001b[0m \u001b[32m━━━━━━━━━━━━━━━━━━━━\u001b[0m\u001b[37m\u001b[0m \u001b[1m20s\u001b[0m 26ms/step - accuracy: 0.9960 - loss: 0.0195 - val_accuracy: 0.9995 - val_loss: 0.0022\n",
            "Epoch 7/10\n",
            "\u001b[1m773/773\u001b[0m \u001b[32m━━━━━━━━━━━━━━━━━━━━\u001b[0m\u001b[37m\u001b[0m \u001b[1m18s\u001b[0m 23ms/step - accuracy: 0.9955 - loss: 0.0201 - val_accuracy: 0.9998 - val_loss: 2.5268e-04\n",
            "Epoch 8/10\n",
            "\u001b[1m773/773\u001b[0m \u001b[32m━━━━━━━━━━━━━━━━━━━━\u001b[0m\u001b[37m\u001b[0m \u001b[1m21s\u001b[0m 25ms/step - accuracy: 0.9952 - loss: 0.0224 - val_accuracy: 0.9997 - val_loss: 8.6177e-04\n",
            "Epoch 9/10\n",
            "\u001b[1m773/773\u001b[0m \u001b[32m━━━━━━━━━━━━━━━━━━━━\u001b[0m\u001b[37m\u001b[0m \u001b[1m19s\u001b[0m 23ms/step - accuracy: 0.9964 - loss: 0.0167 - val_accuracy: 0.9997 - val_loss: 0.0014\n",
            "Epoch 10/10\n",
            "\u001b[1m773/773\u001b[0m \u001b[32m━━━━━━━━━━━━━━━━━━━━\u001b[0m\u001b[37m\u001b[0m \u001b[1m18s\u001b[0m 23ms/step - accuracy: 0.9966 - loss: 0.0175 - val_accuracy: 0.9987 - val_loss: 0.0051\n"
          ]
        },
        {
          "output_type": "display_data",
          "data": {
            "text/plain": [
              "<Figure size 640x480 with 1 Axes>"
            ],
            "image/png": "[encoded data removed]"
          },
          "metadata": {}
        },
        {
          "output_type": "display_data",
          "data": {
            "text/plain": [
              "<Figure size 640x480 with 1 Axes>"
            ],
            "image/png": "[encoded data removed]"
          },
          "metadata": {}
        }
      ]
    },
    {
      "cell_type": "markdown",
      "source": [
        "# **K-Fold Cross-Validation**"
      ],
      "metadata": {
        "id": "Cq6bzVPjug4H"
      }
    },
    {
      "cell_type": "code",
      "source": [
        "import numpy as np\n",
        "import tensorflow as tf\n",
        "from sklearn.model_selection import KFold\n",
        "from tensorflow.keras.models import Sequential\n",
        "from tensorflow.keras.layers import Embedding, LSTM, Dense, Dropout\n",
        "from tensorflow.keras.callbacks import EarlyStopping\n",
        "from tensorflow.keras.preprocessing.sequence import pad_sequences\n",
        "from tensorflow.keras.preprocessing.text import Tokenizer\n",
        "from gensim.models import Word2Vec\n",
        "import pandas as pd\n",
        "\n",
        "# Load data from Google Drive\n",
        "from google.colab import drive\n",
        "drive.mount('/content/drive')\n",
        "data_path = '/content/drive/My Drive/Data/Modified_SQL_Dataset.csv'\n",
        "data = pd.read_csv(data_path)\n",
        "\n",
        "# Preprocess the Query data\n",
        "data['Query'] = data['Query'].fillna('').apply(str)\n",
        "queries = data['Query'].apply(lambda x: x.lower().split())\n",
        "labels = data['Label'].values\n",
        "\n",
        "# Step 2: Train Word2Vec Model\n",
        "word2vec_model = Word2Vec(sentences=queries, vector_size=200, min_count=1, window=5, sg=1)\n",
        "vocab_size = len(word2vec_model.wv)\n",
        "embedding_dim = word2vec_model.vector_size\n",
        "\n",
        "# Tokenize and pad sequences\n",
        "tokenizer = Tokenizer()\n",
        "tokenizer.fit_on_texts(data['Query'])\n",
        "sequences = tokenizer.texts_to_sequences(data['Query'])\n",
        "max_sequence_length = max([len(seq) for seq in sequences])\n",
        "X = pad_sequences(sequences, maxlen=max_sequence_length)\n",
        "\n",
        "# Map Word2Vec embeddings to Keras Embedding layer\n",
        "embedding_matrix = np.zeros((vocab_size + 1, embedding_dim))\n",
        "for word, i in tokenizer.word_index.items():\n",
        "    if word in word2vec_model.wv:\n",
        "        embedding_matrix[i] = word2vec_model.wv[word]\n",
        "\n",
        "# K-Fold Cross Validation\n",
        "kf = KFold(n_splits=5, shuffle=True, random_state=42)\n",
        "fold_no = 1\n",
        "accuracies = []\n",
        "\n",
        "for train_index, val_index in kf.split(X):\n",
        "    X_train, X_val = X[train_index], X[val_index]\n",
        "    y_train, y_val = labels[train_index], labels[val_index]\n",
        "\n",
        "    # Build LSTM model\n",
        "    model = Sequential()\n",
        "    model.add(Embedding(input_dim=vocab_size + 1, output_dim=embedding_dim, weights=[embedding_matrix],\n",
        "                        input_length=max_sequence_length, trainable=False))\n",
        "    model.add(LSTM(128, return_sequences=False))\n",
        "    model.add(Dropout(0.5))\n",
        "    model.add(Dense(64, activation='relu'))\n",
        "    model.add(Dropout(0.5))\n",
        "    model.add(Dense(1, activation='sigmoid', kernel_regularizer=tf.keras.regularizers.l2(0.01)))\n",
        "\n",
        "    model.compile(optimizer='adam', loss='binary_crossentropy', metrics=['accuracy'])\n",
        "\n",
        "    # Early stopping\n",
        "    early_stopping = EarlyStopping(monitor='val_loss', patience=3, restore_best_weights=True)\n",
        "\n",
        "    # Train model\n",
        "    print(f'Training fold {fold_no}...')\n",
        "    model.fit(X_train, y_train, epochs=10, batch_size=32, validation_data=(X_val, y_val), callbacks=[early_stopping])\n",
        "\n",
        "    # Evaluate model\n",
        "    loss, accuracy = model.evaluate(X_val, y_val)\n",
        "    print(f\"Fold {fold_no} - Accuracy: {accuracy}\")\n",
        "    accuracies.append(accuracy)\n",
        "    fold_no += 1\n",
        "\n",
        "# Print overall cross-validation accuracy\n",
        "print(f'Average Cross-Validation Accuracy: {np.mean(accuracies)}')\n"
      ],
      "metadata": {
        "colab": {
          "base_uri": "https://localhost:8080/"
        },
        "id": "5EJDgxZHufdm",
        "outputId": "7f3bdd2f-59b8-426a-b587-16cb63bd997f"
      },
      "execution_count": 1,
      "outputs": [
        {
          "output_type": "stream",
          "name": "stdout",
          "text": [
            "Mounted at /content/drive\n"
          ]
        },
        {
          "output_type": "stream",
          "name": "stderr",
          "text": [
            "/usr/local/lib/python3.10/dist-packages/keras/src/layers/core/embedding.py:90: UserWarning: Argument `input_length` is deprecated. Just remove it.\n",
            "  warnings.warn(\n"
          ]
        },
        {
          "output_type": "stream",
          "name": "stdout",
          "text": [
            "Training fold 1...\n",
            "Epoch 1/10\n",
            "\u001b[1m773/773\u001b[0m \u001b[32m━━━━━━━━━━━━━━━━━━━━\u001b[0m\u001b[37m\u001b[0m \u001b[1m27s\u001b[0m 24ms/step - accuracy: 0.9627 - loss: 0.1494 - val_accuracy: 0.9905 - val_loss: 0.0501\n",
            "Epoch 2/10\n",
            "\u001b[1m773/773\u001b[0m \u001b[32m━━━━━━━━━━━━━━━━━━━━\u001b[0m\u001b[37m\u001b[0m \u001b[1m35s\u001b[0m 24ms/step - accuracy: 0.9917 - loss: 0.0421 - val_accuracy: 0.9921 - val_loss: 0.0372\n",
            "Epoch 3/10\n",
            "\u001b[1m773/773\u001b[0m \u001b[32m━━━━━━━━━━━━━━━━━━━━\u001b[0m\u001b[37m\u001b[0m \u001b[1m21s\u001b[0m 24ms/step - accuracy: 0.9923 - loss: 0.0384 - val_accuracy: 0.9934 - val_loss: 0.0343\n",
            "Epoch 4/10\n",
            "\u001b[1m773/773\u001b[0m \u001b[32m━━━━━━━━━━━━━━━━━━━━\u001b[0m\u001b[37m\u001b[0m \u001b[1m21s\u001b[0m 27ms/step - accuracy: 0.9932 - loss: 0.0334 - val_accuracy: 0.9930 - val_loss: 0.0315\n",
            "Epoch 5/10\n",
            "\u001b[1m773/773\u001b[0m \u001b[32m━━━━━━━━━━━━━━━━━━━━\u001b[0m\u001b[37m\u001b[0m \u001b[1m41s\u001b[0m 27ms/step - accuracy: 0.9952 - loss: 0.0273 - val_accuracy: 0.9942 - val_loss: 0.0306\n",
            "Epoch 6/10\n",
            "\u001b[1m773/773\u001b[0m \u001b[32m━━━━━━━━━━━━━━━━━━━━\u001b[0m\u001b[37m\u001b[0m \u001b[1m41s\u001b[0m 27ms/step - accuracy: 0.9945 - loss: 0.0306 - val_accuracy: 0.9934 - val_loss: 0.0327\n",
            "Epoch 7/10\n",
            "\u001b[1m773/773\u001b[0m \u001b[32m━━━━━━━━━━━━━━━━━━━━\u001b[0m\u001b[37m\u001b[0m \u001b[1m41s\u001b[0m 26ms/step - accuracy: 0.9956 - loss: 0.0248 - val_accuracy: 0.9932 - val_loss: 0.0300\n",
            "Epoch 8/10\n",
            "\u001b[1m773/773\u001b[0m \u001b[32m━━━━━━━━━━━━━━━━━━━━\u001b[0m\u001b[37m\u001b[0m \u001b[1m19s\u001b[0m 24ms/step - accuracy: 0.9954 - loss: 0.0265 - val_accuracy: 0.9943 - val_loss: 0.0254\n",
            "Epoch 9/10\n",
            "\u001b[1m773/773\u001b[0m \u001b[32m━━━━━━━━━━━━━━━━━━━━\u001b[0m\u001b[37m\u001b[0m \u001b[1m21s\u001b[0m 25ms/step - accuracy: 0.9956 - loss: 0.0219 - val_accuracy: 0.9948 - val_loss: 0.0263\n",
            "Epoch 10/10\n",
            "\u001b[1m773/773\u001b[0m \u001b[32m━━━━━━━━━━━━━━━━━━━━\u001b[0m\u001b[37m\u001b[0m \u001b[1m20s\u001b[0m 24ms/step - accuracy: 0.9959 - loss: 0.0222 - val_accuracy: 0.9930 - val_loss: 0.0282\n",
            "\u001b[1m194/194\u001b[0m \u001b[32m━━━━━━━━━━━━━━━━━━━━\u001b[0m\u001b[37m\u001b[0m \u001b[1m2s\u001b[0m 9ms/step - accuracy: 0.9844 - loss: 0.0584\n",
            "Fold 1 - Accuracy: 0.9943402409553528\n",
            "Training fold 2...\n",
            "Epoch 1/10\n",
            "\u001b[1m773/773\u001b[0m \u001b[32m━━━━━━━━━━━━━━━━━━━━\u001b[0m\u001b[37m\u001b[0m \u001b[1m22s\u001b[0m 25ms/step - accuracy: 0.9539 - loss: 0.1644 - val_accuracy: 0.9914 - val_loss: 0.0504\n",
            "Epoch 2/10\n",
            "\u001b[1m773/773\u001b[0m \u001b[32m━━━━━━━━━━━━━━━━━━━━\u001b[0m\u001b[37m\u001b[0m \u001b[1m21s\u001b[0m 26ms/step - accuracy: 0.9910 - loss: 0.0465 - val_accuracy: 0.9919 - val_loss: 0.0390\n",
            "Epoch 3/10\n",
            "\u001b[1m773/773\u001b[0m \u001b[32m━━━━━━━━━━━━━━━━━━━━\u001b[0m\u001b[37m\u001b[0m \u001b[1m20s\u001b[0m 25ms/step - accuracy: 0.9910 - loss: 0.0419 - val_accuracy: 0.9888 - val_loss: 0.0426\n",
            "Epoch 4/10\n",
            "\u001b[1m773/773\u001b[0m \u001b[32m━━━━━━━━━━━━━━━━━━━━\u001b[0m\u001b[37m\u001b[0m \u001b[1m20s\u001b[0m 24ms/step - accuracy: 0.9934 - loss: 0.0326 - val_accuracy: 0.9934 - val_loss: 0.0309\n",
            "Epoch 5/10\n",
            "\u001b[1m773/773\u001b[0m \u001b[32m━━━━━━━━━━━━━━━━━━━━\u001b[0m\u001b[37m\u001b[0m \u001b[1m18s\u001b[0m 24ms/step - accuracy: 0.9948 - loss: 0.0277 - val_accuracy: 0.9940 - val_loss: 0.0294\n",
            "Epoch 6/10\n",
            "\u001b[1m773/773\u001b[0m \u001b[32m━━━━━━━━━━━━━━━━━━━━\u001b[0m\u001b[37m\u001b[0m \u001b[1m21s\u001b[0m 24ms/step - accuracy: 0.9952 - loss: 0.0270 - val_accuracy: 0.9937 - val_loss: 0.0308\n",
            "Epoch 7/10\n",
            "\u001b[1m773/773\u001b[0m \u001b[32m━━━━━━━━━━━━━━━━━━━━\u001b[0m\u001b[37m\u001b[0m \u001b[1m19s\u001b[0m 24ms/step - accuracy: 0.9945 - loss: 0.0281 - val_accuracy: 0.9926 - val_loss: 0.0454\n",
            "Epoch 8/10\n",
            "\u001b[1m773/773\u001b[0m \u001b[32m━━━━━━━━━━━━━━━━━━━━\u001b[0m\u001b[37m\u001b[0m \u001b[1m21s\u001b[0m 25ms/step - accuracy: 0.9952 - loss: 0.0271 - val_accuracy: 0.9940 - val_loss: 0.0271\n",
            "Epoch 9/10\n",
            "\u001b[1m773/773\u001b[0m \u001b[32m━━━━━━━━━━━━━━━━━━━━\u001b[0m\u001b[37m\u001b[0m \u001b[1m21s\u001b[0m 25ms/step - accuracy: 0.9950 - loss: 0.0256 - val_accuracy: 0.9942 - val_loss: 0.0261\n",
            "Epoch 10/10\n",
            "\u001b[1m773/773\u001b[0m \u001b[32m━━━━━━━━━━━━━━━━━━━━\u001b[0m\u001b[37m\u001b[0m \u001b[1m22s\u001b[0m 27ms/step - accuracy: 0.9946 - loss: 0.0240 - val_accuracy: 0.9948 - val_loss: 0.0247\n",
            "\u001b[1m194/194\u001b[0m \u001b[32m━━━━━━━━━━━━━━━━━━━━\u001b[0m\u001b[37m\u001b[0m \u001b[1m2s\u001b[0m 12ms/step - accuracy: 0.9863 - loss: 0.0549\n",
            "Fold 2 - Accuracy: 0.9948253631591797\n",
            "Training fold 3...\n",
            "Epoch 1/10\n",
            "\u001b[1m773/773\u001b[0m \u001b[32m━━━━━━━━━━━━━━━━━━━━\u001b[0m\u001b[37m\u001b[0m \u001b[1m21s\u001b[0m 25ms/step - accuracy: 0.9572 - loss: 0.1560 - val_accuracy: 0.9877 - val_loss: 0.0619\n",
            "Epoch 2/10\n",
            "\u001b[1m773/773\u001b[0m \u001b[32m━━━━━━━━━━━━━━━━━━━━\u001b[0m\u001b[37m\u001b[0m \u001b[1m20s\u001b[0m 24ms/step - accuracy: 0.9897 - loss: 0.0517 - val_accuracy: 0.9927 - val_loss: 0.0367\n",
            "Epoch 3/10\n",
            "\u001b[1m773/773\u001b[0m \u001b[32m━━━━━━━━━━━━━━━━━━━━\u001b[0m\u001b[37m\u001b[0m \u001b[1m19s\u001b[0m 25ms/step - accuracy: 0.9925 - loss: 0.0386 - val_accuracy: 0.9939 - val_loss: 0.0298\n",
            "Epoch 4/10\n",
            "\u001b[1m773/773\u001b[0m \u001b[32m━━━━━━━━━━━━━━━━━━━━\u001b[0m\u001b[37m\u001b[0m \u001b[1m19s\u001b[0m 24ms/step - accuracy: 0.9934 - loss: 0.0348 - val_accuracy: 0.9943 - val_loss: 0.0277\n",
            "Epoch 5/10\n",
            "\u001b[1m773/773\u001b[0m \u001b[32m━━━━━━━━━━━━━━━━━━━━\u001b[0m\u001b[37m\u001b[0m \u001b[1m19s\u001b[0m 25ms/step - accuracy: 0.9947 - loss: 0.0281 - val_accuracy: 0.9956 - val_loss: 0.0262\n",
            "Epoch 6/10\n",
            "\u001b[1m773/773\u001b[0m \u001b[32m━━━━━━━━━━━━━━━━━━━━\u001b[0m\u001b[37m\u001b[0m \u001b[1m20s\u001b[0m 24ms/step - accuracy: 0.9935 - loss: 0.0314 - val_accuracy: 0.9956 - val_loss: 0.0241\n",
            "Epoch 7/10\n",
            "\u001b[1m773/773\u001b[0m \u001b[32m━━━━━━━━━━━━━━━━━━━━\u001b[0m\u001b[37m\u001b[0m \u001b[1m23s\u001b[0m 27ms/step - accuracy: 0.9944 - loss: 0.0267 - val_accuracy: 0.9956 - val_loss: 0.0234\n",
            "Epoch 8/10\n",
            "\u001b[1m773/773\u001b[0m \u001b[32m━━━━━━━━━━━━━━━━━━━━\u001b[0m\u001b[37m\u001b[0m \u001b[1m39s\u001b[0m 25ms/step - accuracy: 0.9953 - loss: 0.0251 - val_accuracy: 0.9955 - val_loss: 0.0242\n",
            "Epoch 9/10\n",
            "\u001b[1m773/773\u001b[0m \u001b[32m━━━━━━━━━━━━━━━━━━━━\u001b[0m\u001b[37m\u001b[0m \u001b[1m20s\u001b[0m 24ms/step - accuracy: 0.9951 - loss: 0.0264 - val_accuracy: 0.9955 - val_loss: 0.0227\n",
            "Epoch 10/10\n",
            "\u001b[1m773/773\u001b[0m \u001b[32m━━━━━━━━━━━━━━━━━━━━\u001b[0m\u001b[37m\u001b[0m \u001b[1m19s\u001b[0m 24ms/step - accuracy: 0.9952 - loss: 0.0234 - val_accuracy: 0.9956 - val_loss: 0.0218\n",
            "\u001b[1m194/194\u001b[0m \u001b[32m━━━━━━━━━━━━━━━━━━━━\u001b[0m\u001b[37m\u001b[0m \u001b[1m2s\u001b[0m 13ms/step - accuracy: 0.9915 - loss: 0.0388\n",
            "Fold 3 - Accuracy: 0.9956339001655579\n",
            "Training fold 4...\n",
            "Epoch 1/10\n",
            "\u001b[1m773/773\u001b[0m \u001b[32m━━━━━━━━━━━━━━━━━━━━\u001b[0m\u001b[37m\u001b[0m \u001b[1m21s\u001b[0m 25ms/step - accuracy: 0.9573 - loss: 0.1637 - val_accuracy: 0.9900 - val_loss: 0.0436\n",
            "Epoch 2/10\n",
            "\u001b[1m773/773\u001b[0m \u001b[32m━━━━━━━━━━━━━━━━━━━━\u001b[0m\u001b[37m\u001b[0m \u001b[1m19s\u001b[0m 24ms/step - accuracy: 0.9908 - loss: 0.0450 - val_accuracy: 0.9939 - val_loss: 0.0333\n",
            "Epoch 3/10\n",
            "\u001b[1m773/773\u001b[0m \u001b[32m━━━━━━━━━━━━━━━━━━━━\u001b[0m\u001b[37m\u001b[0m \u001b[1m19s\u001b[0m 25ms/step - accuracy: 0.9929 - loss: 0.0396 - val_accuracy: 0.9926 - val_loss: 0.0348\n",
            "Epoch 4/10\n",
            "\u001b[1m773/773\u001b[0m \u001b[32m━━━━━━━━━━━━━━━━━━━━\u001b[0m\u001b[37m\u001b[0m \u001b[1m20s\u001b[0m 26ms/step - accuracy: 0.9933 - loss: 0.0358 - val_accuracy: 0.9930 - val_loss: 0.0320\n",
            "Epoch 5/10\n",
            "\u001b[1m773/773\u001b[0m \u001b[32m━━━━━━━━━━━━━━━━━━━━\u001b[0m\u001b[37m\u001b[0m \u001b[1m20s\u001b[0m 25ms/step - accuracy: 0.9946 - loss: 0.0282 - val_accuracy: 0.9948 - val_loss: 0.0291\n",
            "Epoch 6/10\n",
            "\u001b[1m773/773\u001b[0m \u001b[32m━━━━━━━━━━━━━━━━━━━━\u001b[0m\u001b[37m\u001b[0m \u001b[1m20s\u001b[0m 24ms/step - accuracy: 0.9948 - loss: 0.0274 - val_accuracy: 0.9951 - val_loss: 0.0258\n",
            "Epoch 7/10\n",
            "\u001b[1m773/773\u001b[0m \u001b[32m━━━━━━━━━━━━━━━━━━━━\u001b[0m\u001b[37m\u001b[0m \u001b[1m21s\u001b[0m 25ms/step - accuracy: 0.9948 - loss: 0.0254 - val_accuracy: 0.9948 - val_loss: 0.0256\n",
            "Epoch 8/10\n",
            "\u001b[1m773/773\u001b[0m \u001b[32m━━━━━━━━━━━━━━━━━━━━\u001b[0m\u001b[37m\u001b[0m \u001b[1m20s\u001b[0m 24ms/step - accuracy: 0.9953 - loss: 0.0254 - val_accuracy: 0.9956 - val_loss: 0.0228\n",
            "Epoch 9/10\n",
            "\u001b[1m773/773\u001b[0m \u001b[32m━━━━━━━━━━━━━━━━━━━━\u001b[0m\u001b[37m\u001b[0m \u001b[1m19s\u001b[0m 24ms/step - accuracy: 0.9956 - loss: 0.0244 - val_accuracy: 0.9955 - val_loss: 0.0240\n",
            "Epoch 10/10\n",
            "\u001b[1m773/773\u001b[0m \u001b[32m━━━━━━━━━━━━━━━━━━━━\u001b[0m\u001b[37m\u001b[0m \u001b[1m21s\u001b[0m 25ms/step - accuracy: 0.9962 - loss: 0.0191 - val_accuracy: 0.9951 - val_loss: 0.0248\n",
            "\u001b[1m194/194\u001b[0m \u001b[32m━━━━━━━━━━━━━━━━━━━━\u001b[0m\u001b[37m\u001b[0m \u001b[1m2s\u001b[0m 9ms/step - accuracy: 0.9863 - loss: 0.0645\n",
            "Fold 4 - Accuracy: 0.9956339001655579\n",
            "Training fold 5...\n",
            "Epoch 1/10\n",
            "\u001b[1m773/773\u001b[0m \u001b[32m━━━━━━━━━━━━━━━━━━━━\u001b[0m\u001b[37m\u001b[0m \u001b[1m21s\u001b[0m 25ms/step - accuracy: 0.9558 - loss: 0.1609 - val_accuracy: 0.9887 - val_loss: 0.0545\n",
            "Epoch 2/10\n",
            "\u001b[1m773/773\u001b[0m \u001b[32m━━━━━━━━━━━━━━━━━━━━\u001b[0m\u001b[37m\u001b[0m \u001b[1m19s\u001b[0m 25ms/step - accuracy: 0.9908 - loss: 0.0481 - val_accuracy: 0.9913 - val_loss: 0.0380\n",
            "Epoch 3/10\n",
            "\u001b[1m773/773\u001b[0m \u001b[32m━━━━━━━━━━━━━━━━━━━━\u001b[0m\u001b[37m\u001b[0m \u001b[1m18s\u001b[0m 23ms/step - accuracy: 0.9934 - loss: 0.0363 - val_accuracy: 0.9937 - val_loss: 0.0312\n",
            "Epoch 4/10\n",
            "\u001b[1m773/773\u001b[0m \u001b[32m━━━━━━━━━━━━━━━━━━━━\u001b[0m\u001b[37m\u001b[0m \u001b[1m21s\u001b[0m 24ms/step - accuracy: 0.9940 - loss: 0.0314 - val_accuracy: 0.9932 - val_loss: 0.0295\n",
            "Epoch 5/10\n",
            "\u001b[1m773/773\u001b[0m \u001b[32m━━━━━━━━━━━━━━━━━━━━\u001b[0m\u001b[37m\u001b[0m \u001b[1m20s\u001b[0m 23ms/step - accuracy: 0.9950 - loss: 0.0288 - val_accuracy: 0.9940 - val_loss: 0.0266\n",
            "Epoch 6/10\n",
            "\u001b[1m773/773\u001b[0m \u001b[32m━━━━━━━━━━━━━━━━━━━━\u001b[0m\u001b[37m\u001b[0m \u001b[1m18s\u001b[0m 24ms/step - accuracy: 0.9948 - loss: 0.0287 - val_accuracy: 0.9945 - val_loss: 0.0260\n",
            "Epoch 7/10\n",
            "\u001b[1m773/773\u001b[0m \u001b[32m━━━━━━━━━━━━━━━━━━━━\u001b[0m\u001b[37m\u001b[0m \u001b[1m20s\u001b[0m 23ms/step - accuracy: 0.9950 - loss: 0.0278 - val_accuracy: 0.9943 - val_loss: 0.0246\n",
            "Epoch 8/10\n",
            "\u001b[1m773/773\u001b[0m \u001b[32m━━━━━━━━━━━━━━━━━━━━\u001b[0m\u001b[37m\u001b[0m \u001b[1m18s\u001b[0m 23ms/step - accuracy: 0.9950 - loss: 0.0257 - val_accuracy: 0.9948 - val_loss: 0.0236\n",
            "Epoch 9/10\n",
            "\u001b[1m773/773\u001b[0m \u001b[32m━━━━━━━━━━━━━━━━━━━━\u001b[0m\u001b[37m\u001b[0m \u001b[1m21s\u001b[0m 24ms/step - accuracy: 0.9950 - loss: 0.0243 - val_accuracy: 0.9947 - val_loss: 0.0233\n",
            "Epoch 10/10\n",
            "\u001b[1m773/773\u001b[0m \u001b[32m━━━━━━━━━━━━━━━━━━━━\u001b[0m\u001b[37m\u001b[0m \u001b[1m22s\u001b[0m 26ms/step - accuracy: 0.9949 - loss: 0.0262 - val_accuracy: 0.9950 - val_loss: 0.0229\n",
            "\u001b[1m194/194\u001b[0m \u001b[32m━━━━━━━━━━━━━━━━━━━━\u001b[0m\u001b[37m\u001b[0m \u001b[1m2s\u001b[0m 10ms/step - accuracy: 0.9851 - loss: 0.0611\n",
            "Fold 5 - Accuracy: 0.9949862360954285\n",
            "Average Cross-Validation Accuracy: 0.9950839281082153\n"
          ]
        }
      ]
    }
  ]
}