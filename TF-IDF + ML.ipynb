{
  "cells": [
    {
      "cell_type": "code",
      "execution_count": null,
      "metadata": {
        "colab": {
          "base_uri": "https://localhost:8080/"
        },
        "id": "5uXqKP_TET1e",
        "outputId": "d4d0890e-588c-40ae-e2ee-1bf872ed7cad"
      },
      "outputs": [
        {
          "name": "stdout",
          "output_type": "stream",
          "text": [
            "Mounted at /content/drive\n"
          ]
        }
      ],
      "source": [
        "from google.colab import drive\n",
        "drive.mount('/content/drive')"
      ]
    },
    {
      "cell_type": "code",
      "execution_count": null,
      "metadata": {
        "colab": {
          "base_uri": "https://localhost:8080/"
        },
        "id": "5PJtCvg1EQAq",
        "outputId": "7d954a55-4583-4386-b814-530e6f851cef"
      },
      "outputs": [
        {
          "name": "stderr",
          "output_type": "stream",
          "text": [
            "[nltk_data] Downloading package punkt to /root/nltk_data...\n",
            "[nltk_data]   Unzipping tokenizers/punkt.zip.\n",
            "[nltk_data] Downloading package wordnet to /root/nltk_data...\n"
          ]
        }
      ],
      "source": [
        "import pandas as pd\n",
        "import matplotlib.pyplot as plt\n",
        "import numpy as np\n",
        "import seaborn as sns\n",
        "import warnings\n",
        "warnings.filterwarnings('ignore')\n",
        "\n",
        "import re\n",
        "import nltk\n",
        "nltk.download('punkt')\n",
        "nltk.download('wordnet')\n",
        "import string\n",
        "from sklearn.feature_extraction.text import TfidfTransformer\n",
        "from sklearn.feature_extraction.text import TfidfVectorizer\n",
        "from sklearn.feature_extraction.text import CountVectorizer\n",
        "from sklearn.metrics import confusion_matrix\n",
        "from sklearn import metrics\n",
        "from sklearn.metrics import roc_curve,auc\n",
        "from nltk.stem.porter import PorterStemmer\n",
        "# Tutorial about Python regular expressions: https://pymotw.com/2/re/\n",
        "from nltk.corpus import stopwords\n",
        "from nltk.stem import PorterStemmer\n",
        "from nltk.stem.wordnet import WordNetLemmatizer\n",
        "from gensim.models import word2vec\n",
        "from gensim.models import KeyedVectors\n",
        "import pickle\n",
        "\n",
        "from tqdm import tqdm\n",
        "import os\n",
        "from sklearn.model_selection import train_test_split\n",
        "from sklearn.feature_extraction.text import TfidfVectorizer\n",
        "from xgboost import XGBClassifier\n",
        "from sklearn.metrics import accuracy_score, classification_report\n",
        "from sklearn.model_selection import GridSearchCV, StratifiedKFold"
      ]
    },
    {
      "cell_type": "markdown",
      "metadata": {
        "id": "oQ_q6jFIuByM"
      },
      "source": [
        "Tiền xử lý"
      ]
    },
    {
      "cell_type": "code",
      "execution_count": null,
      "metadata": {
        "id": "DWCXnG09jE7W"
      },
      "outputs": [],
      "source": [
        "data = pd.read_csv(\"/content/drive/MyDrive/năm 4/an toàn/Modified_SQL_Dataset.csv\")"
      ]
    },
    {
      "cell_type": "code",
      "execution_count": null,
      "metadata": {
        "id": "dgRjCyu6jayv"
      },
      "outputs": [],
      "source": [
        "data.dropna(inplace = True)"
      ]
    },
    {
      "cell_type": "code",
      "execution_count": null,
      "metadata": {
        "id": "w96bfbXTjhZ4"
      },
      "outputs": [],
      "source": [
        "stopwords= set(['br', 'the', 'i', 'me', 'my', 'myself', 'we', 'our', 'ours', 'ourselves', 'you', \"you're\", \"you've\",\\\n",
        "            \"you'll\", \"you'd\", 'your', 'yours', 'yourself', 'yourselves', 'he', 'him', 'his', 'himself', \\\n",
        "            'she', \"she's\", 'her', 'hers', 'herself', 'it', \"it's\", 'its', 'itself', 'they', 'them', 'their',\\\n",
        "            'theirs', 'themselves', 'what', 'which', 'who', 'whom', 'this', 'that', \"that'll\", 'these', 'those', \\\n",
        "            'am', 'is', 'are', 'was', 'were', 'be', 'been', 'being', 'have', 'has', 'had', 'having', 'do', 'does', \\\n",
        "            'did', 'doing', 'a', 'an', 'the', 'and', 'but', 'if', 'or', 'because', 'as', 'until', 'while', 'of', \\\n",
        "            'at', 'by', 'for', 'with', 'about', 'against', 'between', 'into', 'through', 'during', 'before', 'after',\\\n",
        "            'above', 'below', 'to', 'from', 'up', 'down', 'in', 'out', 'on', 'off', 'over', 'under', 'again', 'further',\\\n",
        "            'then', 'once', 'here', 'there', 'when', 'where', 'why', 'how', 'all', 'any', 'both', 'each', 'few', 'more',\\\n",
        "            'most', 'other', 'some', 'such', 'only', 'own', 'same', 'so', 'than', 'too', 'very', \\\n",
        "            's', 't', 'can', 'will', 'just', 'don', \"don't\", 'should', \"should've\", 'now', 'd', 'll', 'm', 'o', 're', \\\n",
        "            've', 'y', 'ain', 'aren', \"aren't\", 'couldn', \"couldn't\", 'didn', \"didn't\", 'doesn', \"doesn't\", 'hadn',\\\n",
        "            \"hadn't\", 'hasn', \"hasn't\", 'haven', \"haven't\", 'isn', \"isn't\", 'ma', 'mightn', \"mightn't\", 'mustn',\\\n",
        "            \"mustn't\", 'needn', \"needn't\", 'shan', \"shan't\", 'shouldn', \"shouldn't\", 'wasn', \"wasn't\", 'weren', \"weren't\", \\\n",
        "            'won', \"won't\", 'wouldn', \"wouldn't\"])"
      ]
    },
    {
      "cell_type": "code",
      "execution_count": null,
      "metadata": {
        "colab": {
          "base_uri": "https://localhost:8080/"
        },
        "id": "kIJHaSAOonEG",
        "outputId": "0a44b5d9-c127-4d10-d46c-c7e52b846eac"
      },
      "outputs": [
        {
          "name": "stderr",
          "output_type": "stream",
          "text": [
            "100%|██████████| 30919/30919 [00:17<00:00, 1729.91it/s]\n"
          ]
        }
      ],
      "source": [
        "# Kết hợp tất cả các bảng đã nêu ở trên\n",
        "from tqdm import tqdm\n",
        "preprocessed_query = []\n",
        "lemmatizer = WordNetLemmatizer()\n",
        "# tqdm để hiển thị thanh trạng thái\n",
        "for sentance in tqdm(data['Query'].values):\n",
        "    sentance = re.sub('[^A-Za-z0-9]+', ' ', sentance)\n",
        "    sentance = re.sub(r',', ' ', sentance)\n",
        "    #https://www.machinelearningplus.com/nlp/lemmatization-examples-python/\n",
        "    tokenization = nltk.word_tokenize(sentance)\n",
        "    sentance = ' '.join([lemmatizer.lemmatize(w) for w in tokenization])\n",
        "    # https://gist.github.com/sebleier/554280\n",
        "    sentance = ' '.join(e.lower() for e in sentance.split() if e.lower() not in stopwords)\n",
        "    preprocessed_query.append(sentance.strip())"
      ]
    },
    {
      "cell_type": "code",
      "execution_count": null,
      "metadata": {
        "colab": {
          "base_uri": "https://localhost:8080/"
        },
        "id": "JXdXaHjtoukl",
        "outputId": "aa66d97b-9bb1-4a75-b288-8eaa3926cf08"
      },
      "outputs": [
        {
          "data": {
            "text/plain": [
              "['pg sleep time',\n",
              " 'create user name identified pass123 temporary tablespace temp default tablespace user',\n",
              " '1 utl inaddr get host address select distinct table name select distinct table name rownum limit sys table limit 5',\n",
              " 'select user id 1 1 1 union select 1 version 1',\n",
              " 'select user id 1 1 union select 1 version 1',\n",
              " 'select name syscolumns id select id sysobjects name tablename',\n",
              " 'select user id 1 1 1 1',\n",
              " '1 load file char 47 101 116 99 47 112 97 115 115 119 100 1 1 1',\n",
              " 'select user id 1 1 1 union select 1 version 1',\n",
              " 'select user id 1 union select 1 version 1',\n",
              " '1 1',\n",
              " '',\n",
              " 'admin 1 1',\n",
              " 'select user id 1 1 1 1',\n",
              " '1 1',\n",
              " '1 utl inaddr get host address select distinct column name select distinct column name rownum limit tab column limit 5',\n",
              " 'select user id 1 union select 1 version 1',\n",
              " 'select user id 1 1 1 1',\n",
              " 'select user id 1 1 1 1',\n",
              " 'distinct',\n",
              " 'select user id 1 1 1 1',\n",
              " '1 ascii lower substring select top 1 name sysobjects xtype u 1 1 116',\n",
              " 'select user id 1 1 1 1',\n",
              " 'admin 1 1',\n",
              " 'select user id 1 1 1 1',\n",
              " 'insert',\n",
              " 'select user id 1 1 1 1 1 1',\n",
              " 'select user id 1 1 1 1',\n",
              " '1 utl inaddr get host address select distinct password select distinct password rownum limit sys user limit 8',\n",
              " 'select user id 1 1 1 1',\n",
              " '1 1',\n",
              " '1 1',\n",
              " 'select user id 1 1 1 1',\n",
              " 'select user id 1 union select 1 version 1',\n",
              " 'select user id 1 union select version 1',\n",
              " '1 1',\n",
              " '27 1 1',\n",
              " 'select user id 1 union select 1 version 1',\n",
              " 'select user id 1 union select version 1',\n",
              " '1 load file char 47 101 116 99 47 112 97 115',\n",
              " 'select user id 1 1 1 union select 1 version 1',\n",
              " 'select user id 1 1 1 1 1',\n",
              " 'select user id 1 union select 1 version 1',\n",
              " 'select user id 1 union select 1 1 version 1',\n",
              " 'select user id 1 1 union select null banner v version rownum 1 1',\n",
              " 'select user id 1 1 1 1',\n",
              " 'select user id 1 1 1 1',\n",
              " 'select user id 1 1 1 1',\n",
              " 'select user id 1 1 1 1',\n",
              " '1',\n",
              " 'select user id 1 1 1 1',\n",
              " 'admin 1 1',\n",
              " 'select user id 1 1 union select null banner v version rownum 1 1',\n",
              " 'x27union select',\n",
              " 'print',\n",
              " 'select user id 1 union select version 1',\n",
              " '1 1',\n",
              " '1 pg sleep time',\n",
              " 'select user id 1 1 1 1',\n",
              " 'admin 1 1',\n",
              " '2 1 3',\n",
              " 'select user id 1 1 1 1 1',\n",
              " 'select user id 1 1 union select null version 1',\n",
              " 'admin 1 1',\n",
              " 'not select system user sa waitfor delay 0 0 2',\n",
              " 'select user id 1 union select 1 banner v version rownum 1 1',\n",
              " '0 0',\n",
              " 'select user id 1 union select version 1',\n",
              " 'select user id 1 1 1 1',\n",
              " 'select user id 1 1 1 1',\n",
              " 'select user id 1 union select null version 1',\n",
              " 'select user id 1 1 1 1',\n",
              " 'char 4039 41 2b 40select',\n",
              " 'select user id 1 1 1 1 1',\n",
              " 'admin 1 1',\n",
              " 'declare varchar 200 select 0x73656c6',\n",
              " '0 0',\n",
              " 'select user id 1 1 1 1',\n",
              " 'x x',\n",
              " 'select user id 1 union select 1 version 1',\n",
              " 'sleep 50',\n",
              " 'select user id 1 1 union select null banner v version rownum 1 1',\n",
              " '1 union select 1 2 3 4 5 6 name sysobjects xtype u',\n",
              " 'select user id 1 1 union select version 1',\n",
              " 'select user id 1 1 union select null version 1',\n",
              " 'select user id 1 1 1 1 1',\n",
              " '1 1',\n",
              " 'select user id 1 1 union select 1 banner v version rownum 1 1',\n",
              " '1 utl inaddr get host address select distinct column name select distinct column name rownum limit tab column limit 4',\n",
              " 'select user id 1 union select version 1',\n",
              " '1 user name dbo',\n",
              " 'not substring select version 24 1 1 waitfor delay 0 0 2',\n",
              " 'select user id 1 1 union select 1 version 1',\n",
              " 'select user id 1 1 union select null version 1',\n",
              " 'select user id 1 1 1 1',\n",
              " 'select user id 1 1 1 1',\n",
              " 'select user id 1 1 1 1 1',\n",
              " '1 utl inaddr get host address select distinct username select distinct username rownum limit sys users limit 6',\n",
              " '1 1',\n",
              " 'select user id 1 1 1 1',\n",
              " 'text',\n",
              " '1234 1 0 union select admin 81dc9bdb52d04dc20036dbd8313ed055',\n",
              " 'select user id 1 1 1 1',\n",
              " 'select user id 1 1 1 union select 1 version 1',\n",
              " 'admin 1 1',\n",
              " 'select user id 1 1 1 1 1',\n",
              " '',\n",
              " '1 utl inaddr get host address select distinct username select distinct username rownum limit sys users limit 4',\n",
              " 'select information schema table',\n",
              " 'select user id 1 1 1 1',\n",
              " '1 pg sleep time',\n",
              " 'select user id 1 union select version 1',\n",
              " 'declare q nvarchar 200 select q 0x770061',\n",
              " '1 1',\n",
              " 'select user id 1 1 1 1 1',\n",
              " 'declare q nvarchar 200 select q 0x770061006900740066006f0072002000640065006c00610079002000270030003a0030003a0031003000270000 exec q',\n",
              " 'select user id 1 1 1 1 1',\n",
              " 'select user id 1 1 union select 1 version 1',\n",
              " 'unusual unusual',\n",
              " '1 select version',\n",
              " 'truncate',\n",
              " '',\n",
              " '3 3',\n",
              " 'select user id 1 1 union select 1 banner v version rownum 1 1',\n",
              " 'select user id 1 union select 1 version 1',\n",
              " 'admin 1 1',\n",
              " 'select user id 1 1 union select version 1',\n",
              " '1 benchmark 10000000 md5 1',\n",
              " 'select user id 1 union select 1 version 1',\n",
              " '1 utl inaddr get host address select sys database name dual',\n",
              " '0 0',\n",
              " 'select user id 1 1 1 1 1',\n",
              " 'select user id 1 1 1 1',\n",
              " 'not substring select version 25 1 0 waitfor delay 0 0 2',\n",
              " '1 sleep time',\n",
              " 'select user id 1 1 1 1 1',\n",
              " 'select user id 1 1 union select 1 version 1',\n",
              " 'select user id 1 union select null version 1',\n",
              " 'select user id 1 1 1 1',\n",
              " 'true',\n",
              " 'execute immediate sel ect u er',\n",
              " 'hi x x',\n",
              " 'select user id 1 1 1 1',\n",
              " 'select user id 1 1 1 1',\n",
              " 'admin',\n",
              " 'select user id 1 union select 1 version 1',\n",
              " 'select user id 1 1 1 1',\n",
              " 'select user id 1 1 1 1',\n",
              " 'union select 1 load file etc passwd 1 1 1',\n",
              " 'waitfor delay 0 0 time',\n",
              " 'unusual unusual',\n",
              " 'insert mysql user user host password value name localhost password pass123',\n",
              " 'admin 1 1',\n",
              " 'select user id 1 1 1 1 1 1',\n",
              " 'select user id 1 1 union select 1 version 1',\n",
              " 'like',\n",
              " 'username like char 37',\n",
              " 'pg sleep time',\n",
              " 'select user id 1 1 1 1',\n",
              " '3 3',\n",
              " 'select user id 1 1 1 1',\n",
              " 'select user id 1 1 1 1 1',\n",
              " 'exec sp',\n",
              " 'select user id 1 union select 1 version 1',\n",
              " 'select user id 1 1 1 1',\n",
              " 'select user id 1 1 union select 1 version 1',\n",
              " 'admin 1 1',\n",
              " 'waitfor delay 0 0 10',\n",
              " 'select user id 1 union select null version 1',\n",
              " 'select user id 1 union select 1 version 1',\n",
              " '1 select var temp',\n",
              " 'hi',\n",
              " '1 utl inaddr get host address select distinct column name select distinct column name rownum limit tab column limit 1',\n",
              " 'admin 1 1',\n",
              " 'true',\n",
              " 'select user id 1 1 union select 1 version 1',\n",
              " 'select user id 1 1 1 1',\n",
              " '1 pg sleep time',\n",
              " 'select user id 1 1 1 1',\n",
              " 'sleep time',\n",
              " 'select user id 1 1 1 1',\n",
              " 'admin 1 1',\n",
              " 'select user id 1 union select 1 version 1',\n",
              " 'exec xp regread',\n",
              " 'select user id 1 1 union select 1 version 1',\n",
              " 'select user id 1 1 1 1 1',\n",
              " 'select user id 1 1 1 1 1',\n",
              " 'select user id 1 1 1 1',\n",
              " '1 1 1',\n",
              " '0 0',\n",
              " 'union select user login char',\n",
              " 'select user id 1 union select 1 version 1',\n",
              " 'admin 1 1',\n",
              " '1 select',\n",
              " 'select user id 1 1 1 1',\n",
              " 'x 1 select count tabname',\n",
              " 'select user id 1 union select 1 version 1',\n",
              " 'select user id 1 1 1 1',\n",
              " 'select user id 1 1 union select 1 banner v version rownum 1 1',\n",
              " '1 benchmark 10000000 md5 1',\n",
              " 'procedure',\n",
              " '',\n",
              " '1 utl inaddr get host address select sys login user dual',\n",
              " '1 utl inaddr get host address select distinct username select distinct username rownum limit sys users limit 2',\n",
              " 'desc user',\n",
              " 'select user id 1 1 union select 1 version 1',\n",
              " 'select user id 1 1 1 1 1 1',\n",
              " '',\n",
              " '',\n",
              " 'select user id 1 1 union select 1 version 1',\n",
              " 'select user id 1 union select 1 version 1',\n",
              " 'select user id 1 union select null version 1',\n",
              " 'select user id 1 union select 1 version 1',\n",
              " 'select user id 1 1 1 1',\n",
              " 'admin',\n",
              " 'select user id 1 1 1 1',\n",
              " 'utl http request',\n",
              " '1 utl inaddr get host address select distinct table name select distinct table name rownum limit sys table limit 1',\n",
              " 'select user id 1 union select 1 version 1',\n",
              " 'benchmark 10000000 md5 1',\n",
              " 'select user id 1 union select 1 version 1',\n",
              " 'select user id 1 1 union select 1 version 1',\n",
              " 'select user id 1 1 1 1',\n",
              " '1 uni select',\n",
              " 'select user id 1 union select null version 1',\n",
              " 'select user id 1 1 union select null version 1',\n",
              " 'admin 1 1',\n",
              " 'utl http request http 192 168 1 1',\n",
              " '7659 7659',\n",
              " 'select user id 1 1 1 1',\n",
              " 'select user id 1 union select 1 version 1',\n",
              " '1 utl inaddr get host address select distinct granted role select distinct granted role rownum limit dba role privs grantee sys loginuser limit 6',\n",
              " 'select user id 1 1 1 1',\n",
              " 'true',\n",
              " 'select user id 1 union select 1 version 1',\n",
              " 'select user id 1 union select version 1',\n",
              " 'select user id 1 1 union select 1 version 1',\n",
              " 'true',\n",
              " 'select user id 1 1 1 1',\n",
              " 'select user id 1 1 union select 1 version 1',\n",
              " 'select user id 1 1 1 1',\n",
              " '3 3',\n",
              " '1 utl inaddr get host address select global name global name',\n",
              " 'select user id 1 1 union select null banner v version rownum 1 1',\n",
              " 'select user id 1 1 1 1 1',\n",
              " 'select user id 1 1 union select null version 1',\n",
              " 'select user id 1 1 union select version version 1',\n",
              " 'select user id 1 1 1 1 1',\n",
              " 'uid like',\n",
              " 'select user id 1 1 1 1 1',\n",
              " 'select user id 1 union select 1 version 1',\n",
              " '23 1 1',\n",
              " 'select user id 1 union select 1 version 1',\n",
              " 'select user id 1 1 1 1 1',\n",
              " 'select user id 1 1 1 1',\n",
              " 'select user id 1 1 1 1',\n",
              " 'select user id 1 union select version 1',\n",
              " '0 1 1',\n",
              " 'select user id 1 1 1 1',\n",
              " 'admin 1 1',\n",
              " 'select user id 1 1 1 1 1',\n",
              " 'select user id 1 1 1 1',\n",
              " '1 utl inaddr get host address select distinct password select distinct password rownum limit sys user limit 5',\n",
              " '1 utl inaddr get host address select distinct column name select distinct column name rownum limit tab column limit 7',\n",
              " 'apos',\n",
              " 'sqlvuln',\n",
              " 'select user id 1 1 1 1',\n",
              " 'select user id 1 1 1 1',\n",
              " '',\n",
              " 'hi 1 1',\n",
              " 'select user id 1 union select null banner v version rownum 1 1',\n",
              " 'exec master xp cmdshell ping 172 10 1 255',\n",
              " 'select user id 1 1 1 union select 1 banner v version rownum 1 1',\n",
              " 'select user id 1 union select version 1',\n",
              " 'select information schema table',\n",
              " 'select user id 1 1 1 1',\n",
              " 'select top 1',\n",
              " '1 1',\n",
              " '',\n",
              " '1 1',\n",
              " 'select user id 1 1 union select null version 1',\n",
              " 'select user id 1 union select version 1',\n",
              " '',\n",
              " 'exec sp addlogin name password',\n",
              " 'select user id 1 union select null banner v version rownum 1 1',\n",
              " '0x77616974666f722064656c61792027303a303a31302700 exec',\n",
              " 'select user id 1 1 1 1',\n",
              " 'select user id 1 1 union select 1 version 1',\n",
              " 'group userid 1 1',\n",
              " 'select user id 1 1 union select null version 1',\n",
              " 'select user id 1 1 1 1 1',\n",
              " 'select user id 1 1 1 1 1',\n",
              " '1 1',\n",
              " 'select user id 1 union select null version 1',\n",
              " 'select user id 1 1 1 1',\n",
              " '',\n",
              " 'declare varchar 22 select',\n",
              " 'select user id 1 union select 1 version 1',\n",
              " 'select user id 1 union select null version 1',\n",
              " 'select user id 1 1 union select version version 1',\n",
              " 'variable',\n",
              " 'exec master xp cmdshell',\n",
              " 'select user id 1 1 1 1 1',\n",
              " 'select user id 1 union select 1 version 1',\n",
              " 'select user id 1 union select 1a version 1',\n",
              " 'select user id 1 1 union select 1 version 1',\n",
              " 'select user id 1 1 union select 1 version 1',\n",
              " '1 select var temp',\n",
              " 'select user id 1 union select 1 banner v version rownum 1 1',\n",
              " 'select user id 1 1 1 1 1',\n",
              " 'select user id 1 1 1 1',\n",
              " 'x x',\n",
              " '',\n",
              " '1 1',\n",
              " 'select user id 11 1 union select 1 version 1',\n",
              " 'x x',\n",
              " 'select user id 1 1 union select 1 version 1',\n",
              " 'select user id 1 1 union select 1 version 1',\n",
              " '1 utl inaddr get host address select distinct table name select distinct table name rownum limit sys table limit 4',\n",
              " 'srvrolemember sysadmin 0 waitfor delay 0 0 2',\n",
              " 'select user id 1 1 1 1',\n",
              " 'select user id 1 union select version 1',\n",
              " 'select user id 1 union select 1 version 1',\n",
              " 'select user id 1 1 1 1',\n",
              " 'select user id 1 1 union select version version 1',\n",
              " '1 1',\n",
              " '',\n",
              " 'x x',\n",
              " 'select user id 1 1 1 1 1',\n",
              " 'select user id 1 union select 1 version 1',\n",
              " 'password',\n",
              " 'select user id 1 1 1 1',\n",
              " 'select user id 1 1 1 1',\n",
              " 'select user id 1 1 union select null version 1',\n",
              " '1 utl inaddr get host address select distinct granted role select distinct granted role rownum limit dba role privs grantee sys loginuser limit 3',\n",
              " '1 1',\n",
              " 'admin 1 1',\n",
              " 'select user id 1 1 1 1 1',\n",
              " 'select user id 1 union select 1 version 1',\n",
              " 'select user id 1 union select null version 1',\n",
              " 'select user id 1 1 1 1',\n",
              " 'union select user login char 114 111 111 116',\n",
              " 'select user id 1 1 union select 1 version 1',\n",
              " '1 1',\n",
              " '1 utl inaddr get host address select distinct granted role select distinct granted role rownum limit dba role privs grantee sys loginuser limit 5',\n",
              " 'pg sleep time',\n",
              " '3 3',\n",
              " 'select user id 1 1 union select 1 version 1',\n",
              " 'select user id 1 1 1 1',\n",
              " 'union select information schema table',\n",
              " 'select user id 1 1 1 1',\n",
              " 'benchmark 10000000 md5 1',\n",
              " '1 utl inaddr get host address select count distinct column name sys tab column',\n",
              " '1 utl inaddr get host address select distinct table name select distinct table name rownum limit sys table limit 7',\n",
              " '',\n",
              " 'delete',\n",
              " 'waitfor delay 0 0 time',\n",
              " '1 1',\n",
              " '1 non existant table 1',\n",
              " 'select user id 1 1 1 1',\n",
              " 'select user id 1 union select 1 version 1',\n",
              " 'declare varchar 200 select 0x77616974',\n",
              " 'x userid null',\n",
              " 'select user id 1 1 1 1',\n",
              " 'select user id 1 1 union select 1 version 1',\n",
              " 'select user id 1 union select version 1',\n",
              " 'select user id 1 union select 1 version 1',\n",
              " '1 utl inaddr get host address select host name v instance',\n",
              " '1 utl inaddr get host address select distinct column name select distinct column name rownum limit tab column limit 2',\n",
              " 'select user id 1 1 1 1',\n",
              " 'select user id 1 1 1 1',\n",
              " 'select user id 1 1 1 1',\n",
              " 'union select',\n",
              " 'select user id 1 1 1 1 1',\n",
              " 'select user id 1 1 1 1 1',\n",
              " 'select user id 1 1 union select 1 banner v version rownum 1 1',\n",
              " 'x full name like bob',\n",
              " 'x member email null',\n",
              " '2 1',\n",
              " 'select user id 1 1 1 1 1',\n",
              " 'pg sleep time',\n",
              " '',\n",
              " 'select user id 1 union select 1 version 1',\n",
              " 'select user id 1 1 1 1',\n",
              " 'select user id 1 1 1 1',\n",
              " 'sleep time',\n",
              " 'sleep 50',\n",
              " 'select user id 1 1 1 union select 1 banner v version rownum 1 1',\n",
              " 'select user id 1 1 1 1',\n",
              " 'select user id 1 1 1 1',\n",
              " 'sleep time',\n",
              " 'select user id 1 1 1 1',\n",
              " 'select user id 1 1 union select 1 version 1',\n",
              " 'select user id 1 union select version 1',\n",
              " 'select user id 1 union select version 1',\n",
              " 'select user id 1 union select null version 1',\n",
              " '2 1',\n",
              " 'exec sel ect u er',\n",
              " 'anything x x',\n",
              " 'select user id 1 union select 1 version 1',\n",
              " 'select user id 1 union select 1 banner v version rownum 1 1',\n",
              " 'select user id 1 union select null version 1',\n",
              " '',\n",
              " '3 3',\n",
              " 'select user id 1 union select 1 version 1',\n",
              " 'select user id 1 1 union select 1 banner v version rownum 1 1',\n",
              " 'admin 1 1',\n",
              " 'uni sel ect',\n",
              " '',\n",
              " 'waitfor delay 0 0 time',\n",
              " 'select user id 1 1 1 1',\n",
              " '1 waitfor delay 0 0 10',\n",
              " 'bfilename',\n",
              " 'admin 1 1',\n",
              " 'uef',\n",
              " 'password',\n",
              " '1 sleep time',\n",
              " '1 utl inaddr get host address select distinct table name select distinct table name rownum limit sys table limit 6',\n",
              " 'select user id 1 union select version 1',\n",
              " 'select user id 1 1 union select 1 version 1',\n",
              " '1 1 select count tablenames',\n",
              " 'sleep time',\n",
              " '1 utl inaddr get host address select distinct granted role select distinct granted role rownum limit dba role privs grantee sys loginuser limit 8',\n",
              " 'select user id 1 1 1 1 1 1',\n",
              " '6',\n",
              " '1',\n",
              " '1 load file char 110 46 101 120 116 char 39 39 1 0',\n",
              " 'select user id 1 1 1 1',\n",
              " 'select user id 1 1 1 1 1',\n",
              " 'select user id 1 1 1 union select 1 version 1',\n",
              " 'select user id 1 1 1 1',\n",
              " '1 1',\n",
              " '1 utl inaddr get host address select distinct password select distinct password rownum limit sys user limit 7',\n",
              " 'select user id 1 1 1 1',\n",
              " 'select user id 1 1 union select 1 banner v version rownum 1 1',\n",
              " 'whatever whatever',\n",
              " 'declare varchar 200 select 0x73656c65637420404076657273696f6e exec',\n",
              " 'select user id 1 1 1 1',\n",
              " '',\n",
              " '1 utl inaddr get host address select count distinct table name sys table',\n",
              " 'select user id 1 union select 1 version 1',\n",
              " 'admin 1 1',\n",
              " 'select user id 1 1 union select version 1',\n",
              " 'select user id 1 1 1 1',\n",
              " '',\n",
              " 'select user id 1 1 1 1',\n",
              " '1 1',\n",
              " 'drop table temp',\n",
              " '1 utl inaddr get host address select distinct password select distinct password rownum limit sys user limit 2',\n",
              " 'benchmark 10000000 md5 1',\n",
              " 'x x',\n",
              " 'select user id 1 1 1 1',\n",
              " 'select user id 1 union select 1 version 1',\n",
              " 'something like',\n",
              " 'not select serverproperty isintegratedsecurityonly 0 waitfor delay 0 0 2',\n",
              " '1 utl inaddr get host address select distinct password select distinct password rownum limit sys user limit 4',\n",
              " 'select user id 1 1 1 1',\n",
              " 'exec master xp cmdshell ping 10 10 1 2',\n",
              " 'admin 1 1',\n",
              " 'not select serverproperty isintegratedsecurityonly 1 waitfor delay 0 0 2',\n",
              " '1 utl inaddr get host address select distinct table name select distinct table name rownum limit sys table limit 2',\n",
              " 'select user id 1 union select version version 1',\n",
              " 'select user id 1 1 union select null version 1',\n",
              " 'waitfor delay 0 0 time',\n",
              " 'x userid null',\n",
              " 'select user id 1 1 1 1 1',\n",
              " 'select user id 1 union select null version 1',\n",
              " 'select user id 1 1 1 1',\n",
              " '1 1',\n",
              " 'select user id 1 union select 1a banner v version rownum 1 1',\n",
              " 'admin 1 1',\n",
              " 'select user id 1 1 union select 1 version 1',\n",
              " '1 load file char 110 46 101 120 11',\n",
              " 'exec',\n",
              " 'select user id 1 1 1 1',\n",
              " 'select user id 1 1 union select 1 version 1',\n",
              " '1 1',\n",
              " 'select user id 1 1 1 1 1',\n",
              " 'select user id 1 union select version version 1',\n",
              " 'x email null',\n",
              " 'select user id 1 1 union select 1 version 1',\n",
              " '',\n",
              " 'select user id 1 union select null banner v version rownum 1 1',\n",
              " 'select user id 11 1 union select 1 banner v version rownum 1 1',\n",
              " 'select user id 1 1 union select 1 banner v version rownum 1 1',\n",
              " 'update',\n",
              " '1',\n",
              " 'select user id 1 1 union select 1 version 1',\n",
              " 'pg sleep time',\n",
              " '6',\n",
              " 'select user id 1 union select 1 version 1',\n",
              " 'exists',\n",
              " '',\n",
              " 'text n text',\n",
              " 'select user id 1 union select null version 1',\n",
              " 'select user id 1 union select version 1',\n",
              " 'select user id 1 1 1 1',\n",
              " 'select user id 1 1 union select 1 version 1',\n",
              " '0 0',\n",
              " 'select user id 1 1 1 1 1 1',\n",
              " 'select user id 1 1 1 1 1',\n",
              " 'select user id 1 1 union select version version 1',\n",
              " 'select user id 1 1 union select version 1',\n",
              " 'password 1',\n",
              " 'select user id 1 union select 1 version 1',\n",
              " 'select user id 1 1 1 1',\n",
              " 'select user id 1 union select 1 version 1',\n",
              " 'union select null select version',\n",
              " 'select user id 1 1 1 1',\n",
              " 'select user id 1 union select 1 version 1',\n",
              " 'select user id 1 union select null version 1',\n",
              " 'select user id 1 union select 1 version 1',\n",
              " 'select user id 1 union select 1 version 1',\n",
              " 'select user id 1 1 union select 1 version 1',\n",
              " 'select user id 1 union select null version 1',\n",
              " 'select user id 1 union select null version 1',\n",
              " 'select user id 1 1 1 1',\n",
              " 'select user id 1 1 union select 1 version 1',\n",
              " '1 utl inaddr get host address select banner v version rownum 1',\n",
              " 'select user id 1 1 1 1',\n",
              " '1 utl inaddr get host address select distinct column name select distinct column name rownum limit tab column limit 3',\n",
              " 'select user id 1 union select 1 version 1',\n",
              " 'select user id 1 1 1 1',\n",
              " 'select user id 1 union select 1 version 1',\n",
              " 'select user id 1 1 1 1',\n",
              " 'union select',\n",
              " 'asc',\n",
              " 'myappadmin adduser admin newpass',\n",
              " 'exec sp addsrvrolemember name sysadmin',\n",
              " 'select user id 1 1 union select 1 version 1',\n",
              " 'true',\n",
              " 'select user id 1 1 union select 1 banner v version rownum 1 1',\n",
              " '1 utl inaddr get host address select distinct password select distinct password rownum limit sys user limit 3',\n",
              " 'userid like',\n",
              " 'union select null null select version',\n",
              " '',\n",
              " 'select user id 1 1 1 1',\n",
              " 'admin',\n",
              " 'select user id 1 union select 1 version 1',\n",
              " 'waitfor delay 0 0 time',\n",
              " 'select user id 1 union select version 1',\n",
              " 'select user id 1 1 1 1',\n",
              " 'admin 1 1',\n",
              " 'union select version',\n",
              " '',\n",
              " 'sleep time',\n",
              " 'union select null null null null null select version',\n",
              " 'select user id 1 union select 1 version 1',\n",
              " 'select user id 1 union select version 1',\n",
              " 'select user id 1 1 1 1',\n",
              " 'select user id 1 1 1 1',\n",
              " 'select user id 1 1 union select null version 1',\n",
              " 'select user id 1 1 1 1',\n",
              " 'hi',\n",
              " 'select name syscolumns id sele',\n",
              " 'select user id 1 1 1 1 1',\n",
              " 'not substring select version 25 1 5 waitfor delay 0 0 2',\n",
              " 'select user id 1 union select 1 version 1',\n",
              " '2 1 3',\n",
              " 'union select version',\n",
              " '1 utl inaddr get host address select distinct column name select distinct column name rownum limit tab column limit 8',\n",
              " 'exec master xp cmdshell nslookup www google com',\n",
              " 'isnull 1 0',\n",
              " 'select user id 1 union select 1 version 1',\n",
              " 'select user id 1 1 1 1',\n",
              " 'select user id 1 1 1 1',\n",
              " 'declare q nvarchar 200 0x730065006c00650063',\n",
              " '',\n",
              " 'union select version',\n",
              " 'select user id 1 1 1 union select 1 version 1',\n",
              " 'admin 1 1',\n",
              " 'exists',\n",
              " 'select user id 1 union select 1 version 1',\n",
              " 'declare varchar 8000 select 0x73656c',\n",
              " 'select user id 1 union select version 1',\n",
              " 'select user id 1 union select 1 banner v version rownum 1 1',\n",
              " 'select user id 1 1 1 1',\n",
              " 'select user id 1 union select 1 1a version 1',\n",
              " 'begin declare var varchar 8000 set var select var var login password user login',\n",
              " 'union select null null null null select version',\n",
              " 'hi 1 1',\n",
              " 'union select',\n",
              " 'select user id 1 1 1 1',\n",
              " 'select user id 1 1 union select version 1',\n",
              " 'select user id 1 1 1 1',\n",
              " 'select user id 1 1 1 1 1',\n",
              " 'desc',\n",
              " 'select user id 1 1 1 1 1',\n",
              " 'anything x x',\n",
              " 'select user id 1 1 1 union select 1 version 1',\n",
              " 'select user id 1 1 1 1',\n",
              " '0x770061006900740066006f0072002000640065006c00',\n",
              " 'select user id 1 union select version version 1',\n",
              " 'select user id 1 union select 1 version 1',\n",
              " 'select user id 1 1 1 1',\n",
              " 'select user id 1 1 1 1',\n",
              " 'isnull 1 0',\n",
              " 'insert user login password level value char 0x70 char 0x65 char 0x74 char 0x65 char 0x72 char 0x70 char 0x65 char 0x74 char 0x65 char 0x72 char 0x64',\n",
              " 'select user id 1 1 1 1 1',\n",
              " 'select user id 1 1 1 1',\n",
              " 'admin 1 1',\n",
              " 'admin 1 1',\n",
              " 'user like',\n",
              " 'admin 1 1',\n",
              " 'sleep time',\n",
              " 'select user id 1 1 1 1',\n",
              " 'select user id 1 1 1 1',\n",
              " 'select user id 1 1 1 1',\n",
              " '',\n",
              " 'select user id 1 union select version 1',\n",
              " 'admin 1 1',\n",
              " '1 utl inaddr get host address select distinct table name select distinct table name rownum limit sys table limit 3',\n",
              " 'select user id 1 1 1 1',\n",
              " 'select user id 1 1 1 1',\n",
              " 'x 1 1 x',\n",
              " '1 utl inaddr get host address select distinct table name select distinct table name rownum limit sys table limit 8',\n",
              " 'select user id 1 union select 1 version 1',\n",
              " 'x x',\n",
              " '',\n",
              " 'select user id 1 1 union select version version 1',\n",
              " 'select user id 1 union select 1 version 1',\n",
              " 'select user id 1 union select null version 1',\n",
              " 'select user id 1 union select version 1',\n",
              " 'select user id 1 1 union select null version 1',\n",
              " 'select user id 1 union select null version 1',\n",
              " 'select user id 1 1 union select null version 1',\n",
              " 'sleep time',\n",
              " '1 1',\n",
              " '',\n",
              " 'select user id 1 1 1 1 1 1',\n",
              " 'group userid 1 1',\n",
              " 'select user id 1 1 1 union select 1 version 1',\n",
              " 'select user id 1 1 union select 1 version 1',\n",
              " '0 0',\n",
              " '0 0',\n",
              " 'pg sleep time',\n",
              " '1 1',\n",
              " 'select user id 1 1 1 union select version 1',\n",
              " 'select user id 1 1 1 union select 1 version 1',\n",
              " 'select user id 1 1 union select 1 version 1',\n",
              " '1 utl inaddr get host address select count distinct username sys users',\n",
              " 'sqlvuln',\n",
              " 'select user id 1 1 1 1',\n",
              " 'select user id 1 1 union select version 1',\n",
              " '0x730065006c0065006300740020004000400076006500',\n",
              " 'select user id 1 union select 1 1 version 1',\n",
              " 'select user id 1 union select version version 1',\n",
              " 'declare varchar 8000 select 0x73656c65637420404076657273696f6e',\n",
              " 'select user id 1 1 1 1',\n",
              " '',\n",
              " 'select user id 1 1 1 1',\n",
              " '1 utl inaddr get host address select distinct column name select distinct column name rownum limit tab column limit 6',\n",
              " 'select user id 1 union select 1 version 1',\n",
              " 'username like char 37',\n",
              " 'select user id 1 1 union select version version 1',\n",
              " 'something thing',\n",
              " 'name',\n",
              " '1 select version',\n",
              " 'declare q nvarchar 4000 select q',\n",
              " 'select user id 1 union select 1 version 1',\n",
              " '1 utl inaddr get host address select distinct granted role select distinct granted role rownum limit dba role privs grantee sys loginuser limit 2',\n",
              " 'select user id 1 1 1 1',\n",
              " 'select user id 1 union select null version 1',\n",
              " 'select user id 1 1 1 1 1',\n",
              " '1 utl inaddr get host address select distinct password select distinct password rownum limit sys user limit 1',\n",
              " 'select user id 1 1 union select version version 1',\n",
              " 'select user id 1 union select 1a banner v version rownum 1 1',\n",
              " 'select user id 1 1 union select 1 version 1',\n",
              " 'admin 1 1',\n",
              " '',\n",
              " 'select user id 1 1 1 1',\n",
              " '1 1',\n",
              " 'declare q nvarchar 200 0x730065006c00650063007400200040004000760065007200730069006f006e00 exec q',\n",
              " 'admin',\n",
              " 'select user id 1 1 1 1 1',\n",
              " 'select user id 1 1 union select 1 version 1',\n",
              " 'select user id 1 1 1 1 1',\n",
              " 'begin declare var varchar 8000 set var',\n",
              " 'select user id 1 1 1 1',\n",
              " 'pg sleep time',\n",
              " 'print variable',\n",
              " 'select user id 1 1 1 1 1',\n",
              " '',\n",
              " 'x x',\n",
              " 'select user id 1 1 1 1 1',\n",
              " '1 1',\n",
              " 'select user id 1 union select 1 version 1',\n",
              " 'select user id 1 1 1 1',\n",
              " '',\n",
              " '2a 28 7c 28mail 3d 2a 29 29',\n",
              " 'select user id 1 1 1 1',\n",
              " '1 1',\n",
              " 'x 1 select count tabname',\n",
              " '1 utl inaddr get host address select distinct username select distinct username rownum limit sys users limit 3',\n",
              " 'select user id 1 union select 1 version 1',\n",
              " 'admin 1 1',\n",
              " '',\n",
              " 'select user id 1 1 1 union select null version 1',\n",
              " 'select user id 1 union select 1 banner v version rownum 1 1',\n",
              " 'x x',\n",
              " 'union select',\n",
              " '23 1 1',\n",
              " 'select user id 1 1 1 1 1',\n",
              " 'select user id 1 1 1 union select 1 version 1',\n",
              " 'select user id 1 1 1 1',\n",
              " 'select user id 1 1 1 1',\n",
              " 'select user id 1 1 1 1',\n",
              " 'username like',\n",
              " 'elt 3 5 bin 15 ord 10 hex char 45',\n",
              " 'uname like',\n",
              " 'declare varchar 200 select 0x77616974666f722064656c61792027303a303a31302700 exec',\n",
              " '1',\n",
              " 'select user id 1 union select null version 1',\n",
              " '1 utl inaddr get host address select distinct username select distinct username rownum limit sys users limit 1',\n",
              " 'select user id 1 union select version 1',\n",
              " 'select user id 1 1 1 1',\n",
              " '1 utl inaddr get host address select distinct granted role select distinct granted role rownum limit dba role privs grantee sys loginuser limit 1',\n",
              " 'select user id 1 1 1 1',\n",
              " 'admin 1 1',\n",
              " '1 sleep time',\n",
              " 'select user id 1 1 1 1',\n",
              " 'sqlattempt2',\n",
              " 'select user id 1 union select null version 1',\n",
              " 'x email null',\n",
              " 'select user id 1 1 union select 1 banner v version rownum 1 1',\n",
              " '1 utl inaddr get host address select distinct username select distinct username rownum limit sys users limit 8',\n",
              " 'select user id 1 1 union select version version 1',\n",
              " '1234 1 0 union select admin 81dc9bdb52d04dc20036dbd8313ed055',\n",
              " 'select user id 1 union select 1 version 1',\n",
              " 'var select var var temp end',\n",
              " 'select user id 1 union select null version 1',\n",
              " '',\n",
              " 'select user id 1 1 1 1',\n",
              " 'select user id 1 1 1 1',\n",
              " 'select user id 1 union select version 1',\n",
              " '',\n",
              " 'waitfor delay 0 0 time',\n",
              " '',\n",
              " 'select user id 1 1 1 1',\n",
              " 'select user id 1 1 1 1',\n",
              " '1 utl inaddr get host address select distinct granted role select distinct granted role rownum limit dba role privs grantee sys loginuser limit 7',\n",
              " 'select user id 1 union select 1 version 1',\n",
              " 'union select',\n",
              " 'select user id 1 1 1 1',\n",
              " 'select user id 1 1 1 1 1',\n",
              " 'select user id 1 1 1 union select 1 version 1',\n",
              " 'select user id 1 union select 1 version 1',\n",
              " 'select user id 1 1 1 1',\n",
              " 'select user id 1 1 1 1 1',\n",
              " 'select user id 1 union select 1 version 1',\n",
              " 'exec master xp cmdshell nslookup www googl',\n",
              " 'benchmark 10000000 md5 1',\n",
              " 'union select',\n",
              " 'select user id 1 1 1 union select 1 version 1',\n",
              " 'select user id 1 1 1 1',\n",
              " '',\n",
              " 'x member email null',\n",
              " 'select',\n",
              " '1 1',\n",
              " '',\n",
              " 'select user id 1 union select 1 version 1',\n",
              " 'select user id 1 1 union select 1 version 1',\n",
              " 'admin 1 1',\n",
              " 'select user id 1 union select 1 version 1',\n",
              " 'select user id 1 union select 1 banner v version rownum 1 1',\n",
              " '1 utl inaddr get host address select distinct username select distinct username rownum limit sys users limit 5',\n",
              " '1 utl inaddr get host address select count distinct granted role dba role privs grantee sys login user',\n",
              " 'select user id 1 1 union select null version 1',\n",
              " '1 utl inaddr get host address select distinct password select distinct password rownum limit sys user limit 6',\n",
              " 'select user id 1 1 1 1',\n",
              " 'union select null null null select version',\n",
              " 'x x',\n",
              " 'select user id 1 union select version 1',\n",
              " '1 1',\n",
              " 'select user id 1 1 1 1',\n",
              " '3 3',\n",
              " '1 benchmark 10000000 md5 1',\n",
              " '1 1',\n",
              " 'select user id 1 union select 1 version 1',\n",
              " 'select user id 1 1 union select 1 version 1',\n",
              " 'select user id 1 union select 1 version 1',\n",
              " 'select user id 1 1 1 1 1',\n",
              " 'admin 1 1',\n",
              " 'text',\n",
              " '',\n",
              " 'select user id 1 1 union select version 1',\n",
              " 'benchmark 10000000 md5 1',\n",
              " 'exec xp',\n",
              " 'select user id 1 union select 1 version 1',\n",
              " 'select user id 1 1 1 1 1',\n",
              " 'hi',\n",
              " '',\n",
              " 'sqlattempt1',\n",
              " 'admin 1 1',\n",
              " 'select user id 1 1 1 1',\n",
              " '1 1 1',\n",
              " 'select user id 1 1 union select 1 banner v version rownum 1 1',\n",
              " 'variable',\n",
              " '2a 7c',\n",
              " 'select user id 1 union select 1 version 1',\n",
              " 'mail',\n",
              " 'not substring select version 25 1 8 waitfor delay 0 0 2',\n",
              " 'select user id 1 1 union select 1 version 1',\n",
              " 'select user id 1 1 1 union select version version 1',\n",
              " '1 utl inaddr get host address select count distinct password sys user',\n",
              " 'select user id 1 1 union select 1 version 1',\n",
              " 'order',\n",
              " 'select user id 1 1 1 1',\n",
              " 'username not null username',\n",
              " 'admin 1 1',\n",
              " '',\n",
              " 'select user id 1 1 union select 1 version 1',\n",
              " 'select user id 1 union select version version 1',\n",
              " 'select user id 1 1 1 1 1',\n",
              " 'select user id 1 union select 1 version 1',\n",
              " '',\n",
              " '1 0 union',\n",
              " '',\n",
              " '0x770061006900740066006f0072002000640065006c00610079002000270030003a0030003a',\n",
              " 'select user id 1 union select 1 version 1',\n",
              " 'select user id 1 1 1 union select 1 banner v version rownum 1 1',\n",
              " 'sqlvuln',\n",
              " 'text n text',\n",
              " '1 1',\n",
              " '0x730065006c00650063007400200040004000760065007200730069006f006e00 exec q',\n",
              " 'select user id 1 1 union select 1 version 1',\n",
              " 'select user id 1 union select version 1',\n",
              " 'select user id 1 1 1 1 1 1',\n",
              " 'select user id 1 1 1 1',\n",
              " 'select user id 1 union select 1 version 1',\n",
              " 'select user id 1 1 1 1',\n",
              " '1 exec sp exec xp',\n",
              " 'select user id 1 1 1 union select 1 banner v version rownum 1 1',\n",
              " '3 3',\n",
              " 'admin',\n",
              " 'select top 1',\n",
              " 'select user id 1 1 1 1 1',\n",
              " '',\n",
              " 'benchmark 10000000 md5 1',\n",
              " 'select user id 1 1 1 1',\n",
              " '7659 7659',\n",
              " 'select user id 1 1 union select version version 1',\n",
              " 'select user id 1 1 1 1 1',\n",
              " '1 1 1',\n",
              " '',\n",
              " 'replace',\n",
              " 'select user id 1 union select 1 version 1',\n",
              " 'select user id 1 1 1 1',\n",
              " 'select user id 1 union select null version 1',\n",
              " 'select user id 1 union select 1a banner v version rownum 1 1',\n",
              " '',\n",
              " 'objectclass',\n",
              " '1 utl inaddr get host address select distinct granted role select distinct granted role rownum limit dba role privs grantee sys loginuser limit 4',\n",
              " 'limit',\n",
              " '1 1',\n",
              " 'select user id 1 1 1 1',\n",
              " '',\n",
              " '1 utl inaddr get host address select distinct username select distinct username rownum limit sys users limit 7',\n",
              " 'create user name identified pass123',\n",
              " 'select user id 1 union select null version 1',\n",
              " 'select user id 1 1 union select version 1',\n",
              " '',\n",
              " 'select user id 1 1 1 1 1',\n",
              " '',\n",
              " 'select user id 1 1 1 1 1',\n",
              " 'x full name like bob',\n",
              " 'name',\n",
              " 'select user id 1 union select version 1',\n",
              " 'select user id 1 1 1 1',\n",
              " 'select user id 1 union select version 1',\n",
              " 'benchmark 10000000 md5 1',\n",
              " 'waitfor delay 0 0 time',\n",
              " 'sleep time',\n",
              " 'wapiti',\n",
              " 'sleep time',\n",
              " 'sleep time',\n",
              " 'pg sleep time',\n",
              " 'sleep time',\n",
              " 'sleep time',\n",
              " 'pg sleep time',\n",
              " 'pg sleep time',\n",
              " 'sleep time',\n",
              " 'waitfor delay 0 0 time',\n",
              " '1 8156 select count generate series 1 5000000',\n",
              " '1 clye 7842 7842 char 109 char 79 char 70 char 90 regexp substring repeat right char 5012 0 5000000000 null',\n",
              " '4860 azyx 6901 6901 union select 6901 6901 6901 6901 6901',\n",
              " '1 union select null null null null null',\n",
              " 'select benchmark 5000000 md5 0x4c4d6142 6866 6866',\n",
              " '1 boed 6787 6787',\n",
              " '1 vdbf 7969 7969 extractvalue 1297 concat 0x5c 0x7171706a71 select elt 1297 1297 1 0x717a767a71',\n",
              " '1 4281 4281',\n",
              " '1 8024 3560',\n",
              " '1 5452 6050 6050 ciyc like ciyc',\n",
              " '1 8148 like abcdefg upper hex randomblob 500000000 2',\n",
              " '1 select case 9443 9443 sleep 5 else 9443 select 9443 information schema character set end',\n",
              " '1 select rawn dual 4988 4988 char 68 char 69 char 97 char 85 regexp substring repeat right char 5389 0 5000000000 null',\n",
              " '4925 union select 5686 5686 5686 5686 5686 5686 5686',\n",
              " '1 dnhd 2657 2657 4240 select 4240 pg sleep 5',\n",
              " '9534 3038 3038',\n",
              " '1 6941 6941 6537 dbms pipe receive message chr 76 chr 116 chr 117 chr 65 5',\n",
              " 'select case 7978 6009 7978 else 1 select 0 end',\n",
              " '1212 make set 7588 2306 2306',\n",
              " '1 5466 5466 2388 benchmark 5000000 md5 0x6d457153',\n",
              " '3794 union select 2485 2485 2485 2485 2485',\n",
              " '1 5286 select count user t1 user t2 user t3 user t4 user t5 gmil gmil',\n",
              " '1 8635 select count generate series 1 5000000',\n",
              " '6400 union select 4650 4650 4650',\n",
              " '1 select rttq dual 7368 7368 updatexml 1808 concat 0x2e 0x7171706a71 select elt 1808 1808 1 0x717a767a71 8666',\n",
              " '1 ztkr 1532 1532',\n",
              " '1 9842 9842 union select null null null null null null null null',\n",
              " '1 exp select select concat 0x7171706a71 select elt 6270 6270 1 0x717a767a71 0x78 x fbsi like fbsi',\n",
              " '1 char 68 char 69 char 97 char 85 regexp substring repeat right char 5389 0 5000000000 null uwep uwep',\n",
              " '4291 5023 ctxsys drithsx sn 5023 chr 113 chr 113 chr 112 chr 106 chr 113 select case 5023 5023 1 else 0 end dual chr 113 chr 122 chr 118 chr 122 chr 113 xyhi xyhi',\n",
              " '1 boolean mode 3707 select count sysibm systables t1 sysibm systables t2 sysibm systables t3',\n",
              " '1 1022 select count user t1 user t2 user t3 user t4 user t5',\n",
              " 'call regexp substring repeat left crypt key char 65 char 69 char 83 null 0 500000000 null pawh pawh',\n",
              " '1589 1589 1',\n",
              " 'select count generate series 1 5000000 7240 7240',\n",
              " '1 3715 char 113 char 113 char 112 char 106 char 113 select case 3715 3715 char 49 else char 48 end char 113 char 122 char 118 char 122 char 113 9548 9548',\n",
              " '1 6240 qqpjq select case 6240 6240 1 else 0 end rdb database qzvzq 6406 6406',\n",
              " '5021 select yadq 4285 4285 order 1',\n",
              " '1 4386 utl inaddr get host address chr 113 chr 113 chr 112 chr 106 chr 113 select case 4386 4386 1 else 0 end dual chr 113 chr 122 chr 118 chr 122 chr 113',\n",
              " '1 6793 select 6793 pg sleep 5 baia baia',\n",
              " '1 3824 benchmark 5000000 md5 0x76555642 jozh jozh',\n",
              " '9508 union select 9950 9950 9950 9950 9950 9950 9950',\n",
              " '1 8514 benchmark 5000000 md5 0x544d5a4c',\n",
              " '1064 make set 6439 2937 2937 qojd qojd',\n",
              " '1 rbpx 1264 1264',\n",
              " '1 exp select select concat 0x7171706a71 select elt 6270 6270 1 0x717a767a71 0x78 x',\n",
              " '8284 6171 select 8284 else drop function mbih',\n",
              " '1 sleep 5',\n",
              " '7868 9323 9323',\n",
              " '1 ekjw 5477 5477 union select null null null null null',\n",
              " '1 2462 2462 2716 select count sysusers sys1 sysusers sys2 sysusers sys3 sysusers sys4 sysusers sys5 sysusers sys6 sysusers sys7',\n",
              " 'select like abcdefg upper hex randomblob 500000000 2 mfib mfib',\n",
              " '1 4240 select 4240 pg sleep 5',\n",
              " '1 4595 4595',\n",
              " '1 oknw 8777 8777',\n",
              " '1 6501 6501',\n",
              " '1 char 111 char 77 char 121 char 88 regexp substring repeat left crypt key char 65 char 69 char 83 null 0 500000000 null 8929 8929',\n",
              " '7999 8422 1336',\n",
              " '5742 1314 1314 5903 qqpjq select case 5903 5903 1 else 0 end rdb database qzvzq',\n",
              " '1 potk 5040 5040 elt 5873 5873 sleep 5',\n",
              " '4605 union select 8542 8542 8542 8542 8542 8542 8542 8542',\n",
              " 'select count sysibm systables t1 sysibm systables t2 sysibm systables t3 njnr njnr',\n",
              " 'select case 6558 4327 1 else null end',\n",
              " '7535 2724 char 113 char 113 char 112 char 106 char 113 select case 2724 2724 char 49 else char 48 end char 113 char 122 char 118 char 122 char 113',\n",
              " 'end rqay like rqay',\n",
              " '2312 union select 5282 5282 5282 5282 5282 5282 5282 5282',\n",
              " '1 8594 select 8594 pg sleep 5',\n",
              " 'select case 8993 8846 8993 else 8993 select 8993 mysql db end',\n",
              " 'select count sysibm systables t1 sysibm systables t2 sysibm systables t3',\n",
              " 'select pg sleep 5',\n",
              " 'call regexp substring repeat right char 3702 0 500000000 null 4142 4142',\n",
              " '8153 qhlb 4948 4948 union select 4948 4948 4948 4948 4948 4948',\n",
              " '7319 4493 utl inaddr get host address chr 113 chr 113 chr 112 chr 106 chr 113 select case 4493 4493 1 else 0 end dual chr 113 chr 122 chr 118 chr 122 chr 113',\n",
              " '1 bedq 8781 8781 8466 benchmark 5000000 md5 0x694a4745',\n",
              " '1 2006 2006',\n",
              " '5139 union select 3373 3373 3373 3373 3373 3373 3373 3373',\n",
              " '1 4411 select count sysusers sys1 sysusers sys2 sysusers sys3 sysusers sys4 sysusers sys5 sysusers sys6 sysusers sys7 zcyc',\n",
              " '1 rvch 1863 1863 8384 like abcdefg upper hex randomblob 500000000 2',\n",
              " '1 8514 select count domain domain t1 domain column t2 domain table t3 loao',\n",
              " '9446 wmrq 3705 3705 union select 3705',\n",
              " 'iif 7889 5114 1 1 0',\n",
              " 'select dbms pipe receive message chr 66 chr 67 chr 79 chr 101 5 dual ztmd ztmd',\n",
              " '1 union select null null null null null null null null',\n",
              " '1 char 109 char 79 char 70 char 90 regexp substring repeat right char 5012 0 5000000000 null',\n",
              " '1 elt 4249 4249 7259',\n",
              " '1 4867 4867 rlike select case 7689 7689 1 else 0x28 end',\n",
              " '8858 5680 select 8858 else drop function pyuo',\n",
              " '1 procedure analyse extractvalue 9255 concat 0x5c benchmark 5000000 md5 0x52515a50 1 1748 1748',\n",
              " '1 klie 2840 2840 8514 benchmark 5000000 md5 0x544d5a4c',\n",
              " '3859 3440 cast chr 113 chr 113 chr 112 chr 106 chr 113 select case 3440 3440 1 else 0 end text chr 113 chr 122 chr 118 chr 122 chr 113 numeric 5846 5846',\n",
              " 'end qkkn like qkkn',\n",
              " '1 pzoo 8036 8036 6793 select 6793 pg sleep 5',\n",
              " '2120 8734 8844',\n",
              " '1 lomw 9257 9257 union select null null null null null null',\n",
              " '1 6784 6784 elt 3114 3114 sleep 5',\n",
              " '1 select syrz 7699 7699 union select null null null',\n",
              " '1 4595 4595',\n",
              " '4984 union select 6980 6980 6980 6980 6980 6980 6980 6980',\n",
              " '5224 1962 1962 union select 1962 1962 1962 1962 1962 1962 1962 1962 1962',\n",
              " '1 8514 select count domain domain t1 domain column t2 domain table t3',\n",
              " '1 select gboi 4191 4191 8514 select count domain domain t1 domain column t2 domain table t3',\n",
              " '1 union select null null null null null',\n",
              " '1 2633 dbms pipe receive message chr 112 chr 65 chr 65 chr 103 5 xmnd xmnd',\n",
              " '1 row 6237 7469 select count concat 0x7171706a71 select elt 6237 6237 1 0x717a767a71 floor rand 0 2 x select 5192 union select 3785 union select 3931 union select 7158 group x ejul ejul',\n",
              " '3721 union select 9050 9050',\n",
              " '1 paai 4089 4089 3707 select count sysibm systables t1 sysibm systables t2 sysibm systables t3',\n",
              " '1 elt 3114 3114 sleep 5',\n",
              " '1 order 1',\n",
              " '9281 8363 8363 make set 8220 5127 5127',\n",
              " '1 6671 6671 char 119 char 100 char 99 char 121 regexp substring repeat right char 1441 0 5000000000 null',\n",
              " 'end vwbx vwbx',\n",
              " '1 boolean mode 8189 select count sysibm systables t1 sysibm systables t2 sysibm systables t3',\n",
              " '1 rlike sleep 5 iwct iwct',\n",
              " '9087 order 1',\n",
              " '7562 8571 8571',\n",
              " '3707 8571 8571',\n",
              " '1 select twyt 3376 3376 7756 dbms utility sqlid sqlhash chr 113 chr 113 chr 112 chr 106 chr 113 select case 7756 7756 1 else 0 end dual chr 113 chr 122 chr 118 chr 122 chr 113',\n",
              " ...]"
            ]
          },
          "execution_count": 7,
          "metadata": {},
          "output_type": "execute_result"
        }
      ],
      "source": [
        "preprocessed_query"
      ]
    },
    {
      "cell_type": "code",
      "execution_count": null,
      "metadata": {
        "colab": {
          "base_uri": "https://localhost:8080/",
          "height": 206
        },
        "id": "isv1fHohoykX",
        "outputId": "671d8360-aebd-44d2-9819-4ebc1b8f6505"
      },
      "outputs": [
        {
          "data": {
            "application/vnd.google.colaboratory.intrinsic+json": {
              "summary": "{\n  \"name\": \"data\",\n  \"rows\": 30919,\n  \"fields\": [\n    {\n      \"column\": \"Query\",\n      \"properties\": {\n        \"dtype\": \"string\",\n        \"num_unique_values\": 27912,\n        \"samples\": [\n          \"4419 1 group concat 0x7171706a71 select case 4232 4232 1 else 0 end 0x717a767a71 floor rand 0 2 min 0\",\n          \"select adult slowfrom agree go not null\",\n          \"4562\"\n        ],\n        \"semantic_type\": \"\",\n        \"description\": \"\"\n      }\n    },\n    {\n      \"column\": \"Label\",\n      \"properties\": {\n        \"dtype\": \"number\",\n        \"std\": 0,\n        \"min\": 0,\n        \"max\": 1,\n        \"num_unique_values\": 2,\n        \"samples\": [\n          0,\n          1\n        ],\n        \"semantic_type\": \"\",\n        \"description\": \"\"\n      }\n    }\n  ]\n}",
              "type": "dataframe",
              "variable_name": "data"
            },
            "text/html": [
              "\n",
              "  <div id=\"df-1ca9ed45-6dc6-4894-bac2-cd5a9ce43ae5\" class=\"colab-df-container\">\n",
              "    <div>\n",
              "<style scoped>\n",
              "    .dataframe tbody tr th:only-of-type {\n",
              "        vertical-align: middle;\n",
              "    }\n",
              "\n",
              "    .dataframe tbody tr th {\n",
              "        vertical-align: top;\n",
              "    }\n",
              "\n",
              "    .dataframe thead th {\n",
              "        text-align: right;\n",
              "    }\n",
              "</style>\n",
              "<table border=\"1\" class=\"dataframe\">\n",
              "  <thead>\n",
              "    <tr style=\"text-align: right;\">\n",
              "      <th></th>\n",
              "      <th>Query</th>\n",
              "      <th>Label</th>\n",
              "    </tr>\n",
              "  </thead>\n",
              "  <tbody>\n",
              "    <tr>\n",
              "      <th>0</th>\n",
              "      <td>pg sleep time</td>\n",
              "      <td>1</td>\n",
              "    </tr>\n",
              "    <tr>\n",
              "      <th>1</th>\n",
              "      <td>create user name identified pass123 temporary ...</td>\n",
              "      <td>1</td>\n",
              "    </tr>\n",
              "    <tr>\n",
              "      <th>2</th>\n",
              "      <td>1 utl inaddr get host address select distinct ...</td>\n",
              "      <td>1</td>\n",
              "    </tr>\n",
              "    <tr>\n",
              "      <th>3</th>\n",
              "      <td>select user id 1 1 1 union select 1 version 1</td>\n",
              "      <td>1</td>\n",
              "    </tr>\n",
              "    <tr>\n",
              "      <th>4</th>\n",
              "      <td>select user id 1 1 union select 1 version 1</td>\n",
              "      <td>1</td>\n",
              "    </tr>\n",
              "  </tbody>\n",
              "</table>\n",
              "</div>\n",
              "    <div class=\"colab-df-buttons\">\n",
              "\n",
              "  <div class=\"colab-df-container\">\n",
              "    <button class=\"colab-df-convert\" onclick=\"convertToInteractive('df-1ca9ed45-6dc6-4894-bac2-cd5a9ce43ae5')\"\n",
              "            title=\"Convert this dataframe to an interactive table.\"\n",
              "            style=\"display:none;\">\n",
              "\n",
              "  <svg xmlns=\"http://www.w3.org/2000/svg\" height=\"24px\" viewBox=\"0 -960 960 960\">\n",
              "    <path d=\"M120-120v-720h720v720H120Zm60-500h600v-160H180v160Zm220 220h160v-160H400v160Zm0 220h160v-160H400v160ZM180-400h160v-160H180v160Zm440 0h160v-160H620v160ZM180-180h160v-160H180v160Zm440 0h160v-160H620v160Z\"/>\n",
              "  </svg>\n",
              "    </button>\n",
              "\n",
              "  <style>\n",
              "    .colab-df-container {\n",
              "      display:flex;\n",
              "      gap: 12px;\n",
              "    }\n",
              "\n",
              "    .colab-df-convert {\n",
              "      background-color: #E8F0FE;\n",
              "      border: none;\n",
              "      border-radius: 50%;\n",
              "      cursor: pointer;\n",
              "      display: none;\n",
              "      fill: #1967D2;\n",
              "      height: 32px;\n",
              "      padding: 0 0 0 0;\n",
              "      width: 32px;\n",
              "    }\n",
              "\n",
              "    .colab-df-convert:hover {\n",
              "      background-color: #E2EBFA;\n",
              "      box-shadow: 0px 1px 2px rgba(60, 64, 67, 0.3), 0px 1px 3px 1px rgba(60, 64, 67, 0.15);\n",
              "      fill: #174EA6;\n",
              "    }\n",
              "\n",
              "    .colab-df-buttons div {\n",
              "      margin-bottom: 4px;\n",
              "    }\n",
              "\n",
              "    [theme=dark] .colab-df-convert {\n",
              "      background-color: #3B4455;\n",
              "      fill: #D2E3FC;\n",
              "    }\n",
              "\n",
              "    [theme=dark] .colab-df-convert:hover {\n",
              "      background-color: #434B5C;\n",
              "      box-shadow: 0px 1px 3px 1px rgba(0, 0, 0, 0.15);\n",
              "      filter: drop-shadow(0px 1px 2px rgba(0, 0, 0, 0.3));\n",
              "      fill: #FFFFFF;\n",
              "    }\n",
              "  </style>\n",
              "\n",
              "    <script>\n",
              "      const buttonEl =\n",
              "        document.querySelector('#df-1ca9ed45-6dc6-4894-bac2-cd5a9ce43ae5 button.colab-df-convert');\n",
              "      buttonEl.style.display =\n",
              "        google.colab.kernel.accessAllowed ? 'block' : 'none';\n",
              "\n",
              "      async function convertToInteractive(key) {\n",
              "        const element = document.querySelector('#df-1ca9ed45-6dc6-4894-bac2-cd5a9ce43ae5');\n",
              "        const dataTable =\n",
              "          await google.colab.kernel.invokeFunction('convertToInteractive',\n",
              "                                                    [key], {});\n",
              "        if (!dataTable) return;\n",
              "\n",
              "        const docLinkHtml = 'Like what you see? Visit the ' +\n",
              "          '<a target=\"_blank\" href=https://colab.research.google.com/notebooks/data_table.ipynb>data table notebook</a>'\n",
              "          + ' to learn more about interactive tables.';\n",
              "        element.innerHTML = '';\n",
              "        dataTable['output_type'] = 'display_data';\n",
              "        await google.colab.output.renderOutput(dataTable, element);\n",
              "        const docLink = document.createElement('div');\n",
              "        docLink.innerHTML = docLinkHtml;\n",
              "        element.appendChild(docLink);\n",
              "      }\n",
              "    </script>\n",
              "  </div>\n",
              "\n",
              "\n",
              "<div id=\"df-e2ebf965-18df-4f4b-b4f9-cfa2d47f5777\">\n",
              "  <button class=\"colab-df-quickchart\" onclick=\"quickchart('df-e2ebf965-18df-4f4b-b4f9-cfa2d47f5777')\"\n",
              "            title=\"Suggest charts\"\n",
              "            style=\"display:none;\">\n",
              "\n",
              "<svg xmlns=\"http://www.w3.org/2000/svg\" height=\"24px\"viewBox=\"0 0 24 24\"\n",
              "     width=\"24px\">\n",
              "    <g>\n",
              "        <path d=\"M19 3H5c-1.1 0-2 .9-2 2v14c0 1.1.9 2 2 2h14c1.1 0 2-.9 2-2V5c0-1.1-.9-2-2-2zM9 17H7v-7h2v7zm4 0h-2V7h2v10zm4 0h-2v-4h2v4z\"/>\n",
              "    </g>\n",
              "</svg>\n",
              "  </button>\n",
              "\n",
              "<style>\n",
              "  .colab-df-quickchart {\n",
              "      --bg-color: #E8F0FE;\n",
              "      --fill-color: #1967D2;\n",
              "      --hover-bg-color: #E2EBFA;\n",
              "      --hover-fill-color: #174EA6;\n",
              "      --disabled-fill-color: #AAA;\n",
              "      --disabled-bg-color: #DDD;\n",
              "  }\n",
              "\n",
              "  [theme=dark] .colab-df-quickchart {\n",
              "      --bg-color: #3B4455;\n",
              "      --fill-color: #D2E3FC;\n",
              "      --hover-bg-color: #434B5C;\n",
              "      --hover-fill-color: #FFFFFF;\n",
              "      --disabled-bg-color: #3B4455;\n",
              "      --disabled-fill-color: #666;\n",
              "  }\n",
              "\n",
              "  .colab-df-quickchart {\n",
              "    background-color: var(--bg-color);\n",
              "    border: none;\n",
              "    border-radius: 50%;\n",
              "    cursor: pointer;\n",
              "    display: none;\n",
              "    fill: var(--fill-color);\n",
              "    height: 32px;\n",
              "    padding: 0;\n",
              "    width: 32px;\n",
              "  }\n",
              "\n",
              "  .colab-df-quickchart:hover {\n",
              "    background-color: var(--hover-bg-color);\n",
              "    box-shadow: 0 1px 2px rgba(60, 64, 67, 0.3), 0 1px 3px 1px rgba(60, 64, 67, 0.15);\n",
              "    fill: var(--button-hover-fill-color);\n",
              "  }\n",
              "\n",
              "  .colab-df-quickchart-complete:disabled,\n",
              "  .colab-df-quickchart-complete:disabled:hover {\n",
              "    background-color: var(--disabled-bg-color);\n",
              "    fill: var(--disabled-fill-color);\n",
              "    box-shadow: none;\n",
              "  }\n",
              "\n",
              "  .colab-df-spinner {\n",
              "    border: 2px solid var(--fill-color);\n",
              "    border-color: transparent;\n",
              "    border-bottom-color: var(--fill-color);\n",
              "    animation:\n",
              "      spin 1s steps(1) infinite;\n",
              "  }\n",
              "\n",
              "  @keyframes spin {\n",
              "    0% {\n",
              "      border-color: transparent;\n",
              "      border-bottom-color: var(--fill-color);\n",
              "      border-left-color: var(--fill-color);\n",
              "    }\n",
              "    20% {\n",
              "      border-color: transparent;\n",
              "      border-left-color: var(--fill-color);\n",
              "      border-top-color: var(--fill-color);\n",
              "    }\n",
              "    30% {\n",
              "      border-color: transparent;\n",
              "      border-left-color: var(--fill-color);\n",
              "      border-top-color: var(--fill-color);\n",
              "      border-right-color: var(--fill-color);\n",
              "    }\n",
              "    40% {\n",
              "      border-color: transparent;\n",
              "      border-right-color: var(--fill-color);\n",
              "      border-top-color: var(--fill-color);\n",
              "    }\n",
              "    60% {\n",
              "      border-color: transparent;\n",
              "      border-right-color: var(--fill-color);\n",
              "    }\n",
              "    80% {\n",
              "      border-color: transparent;\n",
              "      border-right-color: var(--fill-color);\n",
              "      border-bottom-color: var(--fill-color);\n",
              "    }\n",
              "    90% {\n",
              "      border-color: transparent;\n",
              "      border-bottom-color: var(--fill-color);\n",
              "    }\n",
              "  }\n",
              "</style>\n",
              "\n",
              "  <script>\n",
              "    async function quickchart(key) {\n",
              "      const quickchartButtonEl =\n",
              "        document.querySelector('#' + key + ' button');\n",
              "      quickchartButtonEl.disabled = true;  // To prevent multiple clicks.\n",
              "      quickchartButtonEl.classList.add('colab-df-spinner');\n",
              "      try {\n",
              "        const charts = await google.colab.kernel.invokeFunction(\n",
              "            'suggestCharts', [key], {});\n",
              "      } catch (error) {\n",
              "        console.error('Error during call to suggestCharts:', error);\n",
              "      }\n",
              "      quickchartButtonEl.classList.remove('colab-df-spinner');\n",
              "      quickchartButtonEl.classList.add('colab-df-quickchart-complete');\n",
              "    }\n",
              "    (() => {\n",
              "      let quickchartButtonEl =\n",
              "        document.querySelector('#df-e2ebf965-18df-4f4b-b4f9-cfa2d47f5777 button');\n",
              "      quickchartButtonEl.style.display =\n",
              "        google.colab.kernel.accessAllowed ? 'block' : 'none';\n",
              "    })();\n",
              "  </script>\n",
              "</div>\n",
              "\n",
              "    </div>\n",
              "  </div>\n"
            ],
            "text/plain": [
              "                                               Query  Label\n",
              "0                                      pg sleep time      1\n",
              "1  create user name identified pass123 temporary ...      1\n",
              "2  1 utl inaddr get host address select distinct ...      1\n",
              "3      select user id 1 1 1 union select 1 version 1      1\n",
              "4        select user id 1 1 union select 1 version 1      1"
            ]
          },
          "execution_count": 8,
          "metadata": {},
          "output_type": "execute_result"
        }
      ],
      "source": [
        "data['Query'] = preprocessed_query\n",
        "data.head()"
      ]
    },
    {
      "cell_type": "markdown",
      "metadata": {
        "id": "RuM1BaX4pfj7"
      },
      "source": [
        "Xuất data"
      ]
    },
    {
      "cell_type": "code",
      "execution_count": null,
      "metadata": {
        "id": "9297b0ZYo4Lb"
      },
      "outputs": [],
      "source": [
        "# data.to_csv(\"/content/drive/MyDrive/năm 4/an toàn/Train_Dataset.csv\")"
      ]
    },
    {
      "cell_type": "markdown",
      "metadata": {
        "id": "6zB8hFc31ltL"
      },
      "source": [
        "#Training"
      ]
    },
    {
      "cell_type": "markdown",
      "metadata": {
        "id": "GHs9g7YkYNTi"
      },
      "source": [
        "## TF-IDF"
      ]
    },
    {
      "cell_type": "code",
      "execution_count": null,
      "metadata": {
        "id": "UjfWGltw1mlP"
      },
      "outputs": [],
      "source": [
        "X = data.drop(['Label'],axis=1)\n",
        "y = data['Label']\n",
        "X_train,X_test,y_train,y_test = train_test_split(X,y,test_size=0.2,stratify=y)"
      ]
    },
    {
      "cell_type": "code",
      "execution_count": null,
      "metadata": {
        "colab": {
          "base_uri": "https://localhost:8080/"
        },
        "id": "FsyonInG1nLQ",
        "outputId": "fb399e45-07af-419b-bfde-485c9e1434c8"
      },
      "outputs": [
        {
          "name": "stdout",
          "output_type": "stream",
          "text": [
            "X_train shape: (24735, 1)\n",
            "X_test shape: (6184, 1)\n",
            "y_train shape: (24735,)\n",
            "y_test shape: (6184,)\n"
          ]
        }
      ],
      "source": [
        "print(f\"X_train shape: {X_train.shape}\")\n",
        "print(f\"X_test shape: {X_test.shape}\")\n",
        "print(f\"y_train shape: {y_train.shape}\")\n",
        "print(f\"y_test shape: {y_test.shape}\")"
      ]
    },
    {
      "cell_type": "code",
      "execution_count": null,
      "metadata": {
        "id": "oVM2u9Yg1v28"
      },
      "outputs": [],
      "source": [
        "tf_idf_vect = TfidfVectorizer(ngram_range=(1,2),min_df=10)\n",
        "X_train_tf_idf = tf_idf_vect.fit_transform(X_train['Query'])\n",
        "X_test_tf_idf = tf_idf_vect.transform(X_test['Query'])"
      ]
    },
    {
      "cell_type": "code",
      "execution_count": null,
      "metadata": {
        "colab": {
          "base_uri": "https://localhost:8080/"
        },
        "id": "4fs5C5BX2glk",
        "outputId": "5f2ef28f-322d-496b-8d55-d076aac1d15b"
      },
      "outputs": [
        {
          "name": "stdout",
          "output_type": "stream",
          "text": [
            "X_train shape: (24735, 2716)\n",
            "X_test shape: (6184, 2716)\n"
          ]
        }
      ],
      "source": [
        "print(f\"X_train shape: {X_train_tf_idf.shape}\")\n",
        "print(f\"X_test shape: {X_test_tf_idf.shape}\")"
      ]
    },
    {
      "cell_type": "code",
      "execution_count": null,
      "metadata": {
        "colab": {
          "base_uri": "https://localhost:8080/"
        },
        "id": "oPp5gOTN1ysd",
        "outputId": "891998d8-37d3-4910-d6bd-e93406bbd2c1"
      },
      "outputs": [
        {
          "name": "stdout",
          "output_type": "stream",
          "text": [
            "Cấu trúc tập X_train:\n"
          ]
        },
        {
          "data": {
            "text/plain": [
              "array([[0., 0., 0., 0., 0., 0., 0., 0., 0., 0.],\n",
              "       [0., 0., 0., 0., 0., 0., 0., 0., 0., 0.],\n",
              "       [0., 0., 0., 0., 0., 0., 0., 0., 0., 0.],\n",
              "       [0., 0., 0., 0., 0., 0., 0., 0., 0., 0.],\n",
              "       [0., 0., 0., 0., 0., 0., 0., 0., 0., 0.]])"
            ]
          },
          "execution_count": 15,
          "metadata": {},
          "output_type": "execute_result"
        }
      ],
      "source": [
        "X_train_dense = X_test_tf_idf.todense()\n",
        "print(f\"Cấu trúc tập X_train:\")\n",
        "np.array(X_train_dense[:5, :10])"
      ]
    },
    {
      "cell_type": "markdown",
      "metadata": {
        "id": "ZGtr0YRF1-YI"
      },
      "source": [
        "You can get the actual words/phrases (1-grams and 2-grams) that correspond to each column in the tf-idf matrix\n"
      ]
    },
    {
      "cell_type": "code",
      "execution_count": null,
      "metadata": {
        "colab": {
          "base_uri": "https://localhost:8080/"
        },
        "id": "dCRjcLrh1-ok",
        "outputId": "d763ffa9-dd81-473a-fad3-2b739af44a0a"
      },
      "outputs": [
        {
          "data": {
            "text/plain": [
              "array(['01', '01 1996', '06', ..., 'zipper', 'zoo', 'zulu'], dtype=object)"
            ]
          },
          "execution_count": 16,
          "metadata": {},
          "output_type": "execute_result"
        }
      ],
      "source": [
        "features = tf_idf_vect.get_feature_names_out()\n",
        "features\n"
      ]
    },
    {
      "cell_type": "markdown",
      "metadata": {
        "id": "msVQ6eVjMpoR"
      },
      "source": [
        "## KNN"
      ]
    },
    {
      "cell_type": "code",
      "execution_count": null,
      "metadata": {
        "colab": {
          "base_uri": "https://localhost:8080/"
        },
        "id": "qYAwMzOl2Byx",
        "outputId": "4e41a4bd-815b-44fa-9e41-2973c7e82aa6"
      },
      "outputs": [
        {
          "name": "stdout",
          "output_type": "stream",
          "text": [
            "Fitting 5 folds for each of 26 candidates, totalling 130 fits\n",
            "Best Score:0.9498686072367091\n",
            "Best Parameters: {'n_neighbors': 3}\n"
          ]
        }
      ],
      "source": [
        "from sklearn.neighbors import KNeighborsClassifier\n",
        "knn_parameters = {'n_neighbors':[1, 3, 5, 6, 7, 8, 9, 10, 11, 12,13, 14, 15, 16, 17, 18, 19, 20, 30, 40, 50, 60, 70, 80, 90, 100]}\n",
        "knn = KNeighborsClassifier()\n",
        "\n",
        "grid = GridSearchCV(estimator = knn, param_grid = knn_parameters , scoring = 'accuracy', verbose = 1,cv=5)\n",
        "grid.fit(X_train_tf_idf,y_train)\n",
        "\n",
        "print(\"Best Score:\" + str(grid.best_score_))\n",
        "print(\"Best Parameters: \" + str(grid.best_params_))"
      ]
    },
    {
      "cell_type": "code",
      "execution_count": null,
      "metadata": {
        "colab": {
          "base_uri": "https://localhost:8080/"
        },
        "id": "nL37g1yX2Mi8",
        "outputId": "deb00b78-af5b-4ff0-fe3f-85dd16015f01"
      },
      "outputs": [
        {
          "name": "stdout",
          "output_type": "stream",
          "text": [
            "Classification Report:\n",
            "              precision    recall  f1-score   support\n",
            "\n",
            "           0       0.93      0.99      0.96      3908\n",
            "           1       0.98      0.88      0.93      2276\n",
            "\n",
            "    accuracy                           0.95      6184\n",
            "   macro avg       0.96      0.93      0.94      6184\n",
            "weighted avg       0.95      0.95      0.95      6184\n",
            "\n"
          ]
        }
      ],
      "source": [
        "y_pred = grid.predict(X_test_tf_idf)\n",
        "conf_matrix = confusion_matrix(y_test, y_pred)\n",
        "print(\"Classification Report:\")\n",
        "print(classification_report(y_test, y_pred))"
      ]
    },
    {
      "cell_type": "code",
      "execution_count": null,
      "metadata": {
        "colab": {
          "base_uri": "https://localhost:8080/",
          "height": 564
        },
        "id": "GzHLBFKZ22OZ",
        "outputId": "9d61729d-5aca-40e1-ec02-b959a840af6a"
      },
      "outputs": [
        {
          "data": {
            "image/png": "[encoded data removed]",
            "text/plain": [
              "<Figure size 800x600 with 1 Axes>"
            ]
          },
          "metadata": {},
          "output_type": "display_data"
        }
      ],
      "source": [
        "plt.figure(figsize=(8, 6))\n",
        "sns.heatmap(conf_matrix, annot=True, fmt='d', cmap='Blues', cbar=False,\n",
        "            xticklabels=['Class 0', 'Class 1'], yticklabels=['Class 0', 'Class 1'])\n",
        "plt.xlabel('Predicted Label')\n",
        "plt.ylabel('True Label')\n",
        "plt.title('TF-IDF + KNN')\n",
        "plt.show()"
      ]
    },
    {
      "cell_type": "markdown",
      "metadata": {},
      "source": [
        "## XGB"
      ]
    },
    {
      "cell_type": "code",
      "execution_count": null,
      "metadata": {
        "colab": {
          "base_uri": "https://localhost:8080/"
        },
        "id": "LJwollw5bR_Y",
        "outputId": "87bb4a3f-d2cc-4b54-9ba1-3ff84c7b852b"
      },
      "outputs": [
        {
          "name": "stdout",
          "output_type": "stream",
          "text": [
            "Fitting 5 folds for each of 405 candidates, totalling 2025 fits\n",
            "Best Score: 0.9503133212047705\n",
            "Best Parameters: {'colsample_bytree': 0.8, 'learning_rate': 0.2, 'max_depth': 7, 'n_estimators': 200, 'subsample': 1.0}\n"
          ]
        }
      ],
      "source": [
        "from xgboost import XGBClassifier\n",
        "\n",
        "xgb_parameters = {\n",
        "    'n_estimators': [10, 50, 100, 150, 200],\n",
        "    'max_depth': [3, 5, 7],\n",
        "    'learning_rate': [0.01, 0.1, 0.2],\n",
        "    'subsample': [0.7, 0.8, 1.0],\n",
        "    'colsample_bytree': [0.7, 0.8, 1.0]\n",
        "}\n",
        "\n",
        "xgb = XGBClassifier(use_label_encoder=False, eval_metric='logloss')\n",
        "\n",
        "grid = GridSearchCV(estimator=xgb, param_grid=xgb_parameters, scoring='accuracy', verbose=1, cv=5)\n",
        "grid.fit(X_train_tf_idf, y_train)\n",
        "\n",
        "print(\"Best Score: \" + str(grid.best_score_))\n",
        "print(\"Best Parameters: \" + str(grid.best_params_))\n"
      ]
    },
    {
      "cell_type": "code",
      "execution_count": null,
      "metadata": {
        "colab": {
          "base_uri": "https://localhost:8080/"
        },
        "id": "8D5kULf8d7_J",
        "outputId": "1eee137d-6067-48cd-bd18-ab9eef71fc3e"
      },
      "outputs": [
        {
          "name": "stdout",
          "output_type": "stream",
          "text": [
            "Classification Report:\n",
            "              precision    recall  f1-score   support\n",
            "\n",
            "           0       0.93      0.99      0.96      3908\n",
            "           1       0.98      0.88      0.93      2276\n",
            "\n",
            "    accuracy                           0.95      6184\n",
            "   macro avg       0.96      0.93      0.94      6184\n",
            "weighted avg       0.95      0.95      0.95      6184\n",
            "\n"
          ]
        }
      ],
      "source": [
        "y_pred = grid.predict(X_test_tf_idf)\n",
        "conf_matrix = confusion_matrix(y_test, y_pred)\n",
        "print(\"Classification Report:\")\n",
        "print(classification_report(y_test, y_pred))"
      ]
    },
    {
      "cell_type": "code",
      "execution_count": null,
      "metadata": {
        "colab": {
          "base_uri": "https://localhost:8080/",
          "height": 564
        },
        "id": "0_yUFTCQd-Nq",
        "outputId": "7e48a833-a14b-4b8f-f174-16b6ea241ef7"
      },
      "outputs": [
        {
          "data": {
            "image/png": "[encoded data removed]",
            "text/plain": [
              "<Figure size 800x600 with 1 Axes>"
            ]
          },
          "metadata": {},
          "output_type": "display_data"
        }
      ],
      "source": [
        "plt.figure(figsize=(8, 6))\n",
        "sns.heatmap(conf_matrix, annot=True, fmt='d', cmap='Blues', cbar=False,\n",
        "            xticklabels=['Class 0', 'Class 1'], yticklabels=['Class 0', 'Class 1'])\n",
        "plt.xlabel('Predicted Label')\n",
        "plt.ylabel('True Label')\n",
        "plt.title('TF-IDF + XGBoost')\n",
        "plt.show()"
      ]
    },
    {
      "cell_type": "markdown",
      "metadata": {
        "id": "yucHph2iYFjU"
      },
      "source": [
        "##RF"
      ]
    },
    {
      "cell_type": "code",
      "execution_count": null,
      "metadata": {
        "colab": {
          "base_uri": "https://localhost:8080/"
        },
        "id": "zGGg0HLteAbF",
        "outputId": "0f3643a3-6df7-473f-84bb-ba6a7e97b221"
      },
      "outputs": [
        {
          "name": "stdout",
          "output_type": "stream",
          "text": [
            "Fitting 5 folds for each of 180 candidates, totalling 900 fits\n",
            "Best Score: 0.949747321609056\n",
            "Best Parameters: {'max_depth': 100, 'min_samples_leaf': 1, 'min_samples_split': 2, 'n_estimators': 10}\n"
          ]
        }
      ],
      "source": [
        "from sklearn.ensemble import RandomForestClassifier\n",
        "rf_parameters = {\n",
        "    'n_estimators': [10, 50, 100, 150],\n",
        "    'max_depth': [10, 20, 30, 50, 100],\n",
        "    'min_samples_split': [2, 5, 10],\n",
        "    'min_samples_leaf': [1, 2, 4],\n",
        "}\n",
        "\n",
        "rf = RandomForestClassifier()\n",
        "\n",
        "grid = GridSearchCV(estimator=rf, param_grid=rf_parameters, scoring='accuracy', verbose=1, cv=5)\n",
        "grid.fit(X_train_tf_idf, y_train)\n",
        "\n",
        "print(\"Best Score: \" + str(grid.best_score_))\n",
        "print(\"Best Parameters: \" + str(grid.best_params_))\n"
      ]
    },
    {
      "cell_type": "code",
      "execution_count": null,
      "metadata": {
        "colab": {
          "base_uri": "https://localhost:8080/"
        },
        "id": "SxcyMgtTed8m",
        "outputId": "88615f8a-d042-4ba7-b23d-d8bf61967863"
      },
      "outputs": [
        {
          "name": "stdout",
          "output_type": "stream",
          "text": [
            "Classification Report:\n",
            "              precision    recall  f1-score   support\n",
            "\n",
            "           0       0.93      1.00      0.96      3908\n",
            "           1       1.00      0.87      0.93      2276\n",
            "\n",
            "    accuracy                           0.95      6184\n",
            "   macro avg       0.96      0.93      0.94      6184\n",
            "weighted avg       0.95      0.95      0.95      6184\n",
            "\n"
          ]
        }
      ],
      "source": [
        "y_pred = grid.predict(X_test_tf_idf)\n",
        "conf_matrix = confusion_matrix(y_test, y_pred)\n",
        "print(\"Classification Report:\")\n",
        "print(classification_report(y_test, y_pred))"
      ]
    },
    {
      "cell_type": "code",
      "execution_count": null,
      "metadata": {
        "colab": {
          "base_uri": "https://localhost:8080/",
          "height": 553
        },
        "id": "ZugArpE9epto",
        "outputId": "27bf3677-428a-4754-a762-0ce699eb9452"
      },
      "outputs": [
        {
          "data": {
            "image/png": "[encoded data removed]",
            "text/plain": [
              "<Figure size 800x600 with 1 Axes>"
            ]
          },
          "metadata": {},
          "output_type": "display_data"
        }
      ],
      "source": [
        "plt.figure(figsize=(8, 6))\n",
        "sns.heatmap(conf_matrix, annot=True, fmt='d', cmap='Blues', cbar=False,\n",
        "            xticklabels=['Class 0', 'Class 1'], yticklabels=['Class 0', 'Class 1'])\n",
        "plt.xlabel('Predicted Label')\n",
        "plt.ylabel('True Label')\n",
        "plt.title('TF-IDF + RF')\n",
        "plt.show()"
      ]
    },
    {
      "cell_type": "markdown",
      "metadata": {
        "id": "wWV66xyMfihy"
      },
      "source": [
        "## AdaBoost"
      ]
    },
    {
      "cell_type": "code",
      "execution_count": null,
      "metadata": {
        "colab": {
          "base_uri": "https://localhost:8080/"
        },
        "id": "PJfz0H0reqjm",
        "outputId": "19ac1265-7083-4d17-fef7-4ba0a6857c4f"
      },
      "outputs": [
        {
          "name": "stdout",
          "output_type": "stream",
          "text": [
            "Fitting 5 folds for each of 20 candidates, totalling 100 fits\n",
            "Best Score: 0.949787750151607\n",
            "Best Parameters: {'learning_rate': 0.5, 'n_estimators': 200}\n"
          ]
        }
      ],
      "source": [
        "from sklearn.ensemble import AdaBoostClassifier\n",
        "from sklearn.tree import DecisionTreeClassifier\n",
        "\n",
        "ada_parameters = {\n",
        "    'n_estimators': [10, 50, 100, 150, 200],\n",
        "    'learning_rate': [0.01, 0.1, 0.5, 1.0]\n",
        "}\n",
        "#Weak Learner\n",
        "base = DecisionTreeClassifier(max_depth=1)\n",
        "#Ensemble learning\n",
        "ada = AdaBoostClassifier(estimator=base)\n",
        "\n",
        "grid = GridSearchCV(estimator=ada, param_grid=ada_parameters, scoring='accuracy', verbose=1, cv=5)\n",
        "grid.fit(X_train_tf_idf, y_train)\n",
        "\n",
        "print(\"Best Score: \" + str(grid.best_score_))\n",
        "print(\"Best Parameters: \" + str(grid.best_params_))\n"
      ]
    },
    {
      "cell_type": "code",
      "execution_count": null,
      "metadata": {
        "colab": {
          "base_uri": "https://localhost:8080/"
        },
        "id": "8Jkh7BAifc8H",
        "outputId": "6e0450b9-ecfc-46fb-b076-231c7d93f043"
      },
      "outputs": [
        {
          "name": "stdout",
          "output_type": "stream",
          "text": [
            "Classification Report:\n",
            "              precision    recall  f1-score   support\n",
            "\n",
            "           0       0.94      0.99      0.96      3908\n",
            "           1       0.98      0.89      0.93      2276\n",
            "\n",
            "    accuracy                           0.95      6184\n",
            "   macro avg       0.96      0.94      0.95      6184\n",
            "weighted avg       0.95      0.95      0.95      6184\n",
            "\n"
          ]
        }
      ],
      "source": [
        "y_pred = grid.predict(X_test_tf_idf)\n",
        "conf_matrix = confusion_matrix(y_test, y_pred)\n",
        "print(\"Classification Report:\")\n",
        "print(classification_report(y_test, y_pred))"
      ]
    },
    {
      "cell_type": "code",
      "execution_count": null,
      "metadata": {
        "colab": {
          "base_uri": "https://localhost:8080/",
          "height": 553
        },
        "id": "wp9hzdKXfeMN",
        "outputId": "ee7864fe-0d96-4146-a21e-2942ffc45631"
      },
      "outputs": [
        {
          "data": {
            "image/png": "[encoded data removed]",
            "text/plain": [
              "<Figure size 800x600 with 1 Axes>"
            ]
          },
          "metadata": {},
          "output_type": "display_data"
        }
      ],
      "source": [
        "plt.figure(figsize=(8, 6))\n",
        "sns.heatmap(conf_matrix, annot=True, fmt='d', cmap='Blues', cbar=False,\n",
        "            xticklabels=['Class 0', 'Class 1'], yticklabels=['Class 0', 'Class 1'])\n",
        "plt.xlabel('Predicted Label')\n",
        "plt.ylabel('True Label')\n",
        "plt.title('TF-IDF + Adaboost')\n",
        "plt.show()"
      ]
    },
    {
      "cell_type": "markdown",
      "metadata": {
        "id": "U7YkkS84f5_S"
      },
      "source": [
        "## SVM"
      ]
    },
    {
      "cell_type": "code",
      "execution_count": null,
      "metadata": {
        "colab": {
          "base_uri": "https://localhost:8080/"
        },
        "id": "G39nfyqYfe-e",
        "outputId": "426b2adc-e3b5-4986-ff51-a12464f51c6c"
      },
      "outputs": [
        {
          "name": "stdout",
          "output_type": "stream",
          "text": [
            "Fitting 5 folds for each of 24 candidates, totalling 120 fits\n",
            "Best Score: 0.9510006064281382\n",
            "Best Parameters: {'C': 100, 'gamma': 'scale', 'kernel': 'rbf'}\n"
          ]
        }
      ],
      "source": [
        "from sklearn.svm import SVC\n",
        "\n",
        "svm_parameters = {\n",
        "    'C': [0.1, 1, 10, 100],\n",
        "    'kernel': ['linear', 'rbf', 'poly'],\n",
        "    'gamma': ['scale', 'auto']\n",
        "}\n",
        "svm = SVC()\n",
        "\n",
        "grid = GridSearchCV(estimator=svm, param_grid=svm_parameters, scoring='accuracy', verbose=1, cv=5)\n",
        "grid.fit(X_train_tf_idf, y_train)\n",
        "\n",
        "print(\"Best Score: \" + str(grid.best_score_))\n",
        "print(\"Best Parameters: \" + str(grid.best_params_))\n"
      ]
    },
    {
      "cell_type": "code",
      "execution_count": null,
      "metadata": {
        "colab": {
          "base_uri": "https://localhost:8080/"
        },
        "id": "gFwtUyqFf35W",
        "outputId": "dd91eb53-7004-406f-a7d6-9c8a619ac0d2"
      },
      "outputs": [
        {
          "name": "stdout",
          "output_type": "stream",
          "text": [
            "Classification Report:\n",
            "              precision    recall  f1-score   support\n",
            "\n",
            "           0       0.93      0.99      0.96      3908\n",
            "           1       0.98      0.88      0.93      2276\n",
            "\n",
            "    accuracy                           0.95      6184\n",
            "   macro avg       0.96      0.93      0.94      6184\n",
            "weighted avg       0.95      0.95      0.95      6184\n",
            "\n"
          ]
        }
      ],
      "source": [
        "y_pred = grid.predict(X_test_tf_idf)\n",
        "conf_matrix = confusion_matrix(y_test, y_pred)\n",
        "print(\"Classification Report:\")\n",
        "print(classification_report(y_test, y_pred))"
      ]
    },
    {
      "cell_type": "code",
      "execution_count": null,
      "metadata": {
        "colab": {
          "base_uri": "https://localhost:8080/",
          "height": 553
        },
        "id": "K5hZNOpSf4pV",
        "outputId": "85edb1e6-4adf-4489-e8e7-c7700cf2616d"
      },
      "outputs": [
        {
          "data": {
            "image/png": "[encoded data removed]",
            "text/plain": [
              "<Figure size 800x600 with 1 Axes>"
            ]
          },
          "metadata": {},
          "output_type": "display_data"
        }
      ],
      "source": [
        "plt.figure(figsize=(8, 6))\n",
        "sns.heatmap(conf_matrix, annot=True, fmt='d', cmap='Blues', cbar=False,\n",
        "            xticklabels=['Class 0', 'Class 1'], yticklabels=['Class 0', 'Class 1'])\n",
        "plt.xlabel('Predicted Label')\n",
        "plt.ylabel('True Label')\n",
        "plt.title('TF-IDF + SVM')\n",
        "plt.show()"
      ]
    },
    {
      "cell_type": "markdown",
      "metadata": {
        "id": "dDisw__jhJ-c"
      },
      "source": [
        "## Naive Bayes"
      ]
    },
    {
      "cell_type": "code",
      "execution_count": null,
      "metadata": {
        "colab": {
          "base_uri": "https://localhost:8080/"
        },
        "id": "_lU6SfmRf5nH",
        "outputId": "81e1bd81-18fb-4b14-dc39-be27bbe44183"
      },
      "outputs": [
        {
          "name": "stdout",
          "output_type": "stream",
          "text": [
            "Fitting 5 folds for each of 8 candidates, totalling 40 fits\n",
            "Best Score: 0.9402466141095613\n",
            "Best Parameters: {'alpha': 0.01, 'fit_prior': True}\n"
          ]
        }
      ],
      "source": [
        "from sklearn.naive_bayes import MultinomialNB\n",
        "from sklearn.model_selection import GridSearchCV\n",
        "\n",
        "nb_parameters = {\n",
        "    'alpha': [0.01, 0.1, 1.0, 10.0],\n",
        "    'fit_prior': [True, False]\n",
        "}\n",
        "\n",
        "nb = MultinomialNB()\n",
        "\n",
        "grid = GridSearchCV(estimator=nb, param_grid=nb_parameters, scoring='accuracy', verbose=1, cv=5)\n",
        "grid.fit(X_train_tf_idf, y_train)\n",
        "\n",
        "print(\"Best Score: \" + str(grid.best_score_))\n",
        "print(\"Best Parameters: \" + str(grid.best_params_))\n"
      ]
    },
    {
      "cell_type": "code",
      "execution_count": null,
      "metadata": {
        "colab": {
          "base_uri": "https://localhost:8080/"
        },
        "id": "NMdfFwPggJlR",
        "outputId": "019376f4-6e90-4cd4-a524-491c04fc0313"
      },
      "outputs": [
        {
          "name": "stdout",
          "output_type": "stream",
          "text": [
            "Classification Report:\n",
            "              precision    recall  f1-score   support\n",
            "\n",
            "           0       0.92      0.99      0.95      3908\n",
            "           1       0.99      0.85      0.91      2276\n",
            "\n",
            "    accuracy                           0.94      6184\n",
            "   macro avg       0.95      0.92      0.93      6184\n",
            "weighted avg       0.94      0.94      0.94      6184\n",
            "\n"
          ]
        }
      ],
      "source": [
        "y_pred = grid.predict(X_test_tf_idf)\n",
        "conf_matrix = confusion_matrix(y_test, y_pred)\n",
        "print(\"Classification Report:\")\n",
        "print(classification_report(y_test, y_pred))"
      ]
    },
    {
      "cell_type": "code",
      "execution_count": null,
      "metadata": {
        "colab": {
          "base_uri": "https://localhost:8080/",
          "height": 553
        },
        "id": "N2FwRKASgKYj",
        "outputId": "a0d2a7e9-2eff-4499-8edb-065cd09bf73f"
      },
      "outputs": [
        {
          "data": {
            "image/png": "[encoded data removed]",
            "text/plain": [
              "<Figure size 800x600 with 1 Axes>"
            ]
          },
          "metadata": {},
          "output_type": "display_data"
        }
      ],
      "source": [
        "plt.figure(figsize=(8, 6))\n",
        "sns.heatmap(conf_matrix, annot=True, fmt='d', cmap='Blues', cbar=False,\n",
        "            xticklabels=['Class 0', 'Class 1'], yticklabels=['Class 0', 'Class 1'])\n",
        "plt.xlabel('Predicted Label')\n",
        "plt.ylabel('True Label')\n",
        "plt.title('TF-IDF + NB')\n",
        "plt.show()"
      ]
    },
    {
      "cell_type": "code",
      "execution_count": null,
      "metadata": {
        "id": "qCuSp1KjgLON"
      },
      "outputs": [],
      "source": []
    }
  ],
  "metadata": {
    "accelerator": "GPU",
    "colab": {
      "gpuType": "T4",
      "provenance": [],
      "toc_visible": true
    },
    "kernelspec": {
      "display_name": "Python 3",
      "name": "python3"
    },
    "language_info": {
      "name": "python"
    }
  },
  "nbformat": 4,
  "nbformat_minor": 0
}
